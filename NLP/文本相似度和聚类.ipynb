{
 "cells": [
  {
   "cell_type": "markdown",
   "metadata": {},
   "source": [
    "# 文本相似度和聚类"
   ]
  },
  {
   "cell_type": "markdown",
   "metadata": {},
   "source": [
    "文本数据是非结构化的和高噪声的。在执行文本时，拥有合理标记的训练数据和有监督学习大有裨益。但是文档聚类是一个无监督学习过程，我们将尝试通过让机器学习各种各样的文本文档及其特征、相似度以及他们之间的差异，来将文档分割和分类为单独的类别。这使得文档聚类更有挑战性。考虑一个涉及各种不同的概念和想法的文档语料库。"
   ]
  },
  {
   "cell_type": "markdown",
   "metadata": {},
   "source": [
    "## 重要概念"
   ]
  },
  {
   "cell_type": "markdown",
   "metadata": {},
   "source": [
    "* ###  信息检索"
   ]
  },
  {
   "cell_type": "markdown",
   "metadata": {},
   "source": [
    "信息检索是根据某些需求从存储信息的语料库或实体中检索或获取相关信息源的过程。\n",
    "文档和信息与用户需求的相关性可以通过几种方式进行衡量。它包括从搜索文本中查找特定关键字，或使用一些相似度度量来查看文档与输入查询的相似度排名或得分。这与字符串匹配或正则表达式匹配完全不同，因为相较于文档集合中的字符串，搜索字符串中的单词常常具有不同的顺序、上下文和语义，而这些单词的含义基于同义词、反义词和否定修饰符可以有多种可能的结果"
   ]
  },
  {
   "cell_type": "markdown",
   "metadata": {
    "collapsed": true
   },
   "source": [
    "* ### 特征工程\n",
    "提过好几次\n",
    "* ### 相似度测量\n",
    "\n",
    "相似度或距离测量值通常是用来衡量两个实体之间的接近程度的，其中实体可以是任何文本形式，例如文档、句子甚至是短语，实体之间相似程度由两个主要因素决定：\n",
    "* 实体的固有属性或特征\n",
    "* 测量公式及其特性\n",
    "不是所有的距离测量值都是相似度的距离度量。我们可以考虑距离测量值d和两个实体，如文档x和y，x和y之间的距离用于确定他们之间的相似程度，可以表示为d(x,y)，当且仅当满足以下四个条件时，测量值d才可以称为一个相似度的距离度量：\n",
    "1. 任何两个实体之间的测量距离必须始终为非负数\n",
    "2. 当且仅当这两个实体相同时，距离为0\n",
    "3. 这个距离测量值应该是对称的，这意味着从x到y的距离总是和从y到x的距离相同，数学上表示为d(x,y) = d(y,x)\n",
    "4. 该距离测量值应满足三角不等式特性，在数学上可以表示为d(x,z)<=d(x,y)"
   ]
  },
  {
   "cell_type": "markdown",
   "metadata": {},
   "source": [
    "以上条件时重要的衡量标准，也是一个良好的框架，可以用他们来检查距离测量方法是否可以用作测量相似度的距离度量。\n",
    "流行的KL散度测量也称库尔贝克-莱布勒散度，他是一个非对称的距离测量方法，无法用作文本文档的相似度测量，但是他在区分各种分布和模式等方面很有价值"
   ]
  },
  {
   "cell_type": "markdown",
   "metadata": {},
   "source": [
    "### 无监督的机器学习算法\n",
    "无监督机器学习算法属于ML系列算法，他们尝试从数据的各种属性及特征中发线其中潜在的、隐藏的结构和模式。此外一些无监督学习算法也用来减少特征空间，通常是讲高维度的特征空间转变为低维度的特征空间。这些算法所运行的数据基本上没有预先分类的未标记数据，应用这些算法的目的是寻找模式并识别特征，这有助于将各种数据点分成组或类。这些算法称为聚类算法。"
   ]
  },
  {
   "cell_type": "code",
   "execution_count": null,
   "metadata": {
    "collapsed": true
   },
   "outputs": [],
   "source": [
    "import re\n",
    "def keep_text_characters(text):\n",
    "    filtered_tokens = []\n",
    "    tokens = tokenize_text(text):\n",
    "        if re,search('[a-zA-Z]'，token):"
   ]
  }
 ],
 "metadata": {
  "kernelspec": {
   "display_name": "Python 3",
   "language": "python",
   "name": "python3"
  },
  "language_info": {
   "codemirror_mode": {
    "name": "ipython",
    "version": 3
   },
   "file_extension": ".py",
   "mimetype": "text/x-python",
   "name": "python",
   "nbconvert_exporter": "python",
   "pygments_lexer": "ipython3",
   "version": "3.6.3"
  }
 },
 "nbformat": 4,
 "nbformat_minor": 2
}
