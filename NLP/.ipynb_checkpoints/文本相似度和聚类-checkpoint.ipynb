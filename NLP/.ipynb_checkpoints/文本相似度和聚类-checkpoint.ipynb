{
 "cells": [
  {
   "cell_type": "markdown",
   "metadata": {},
   "source": [
    "# 文本相似度和聚类"
   ]
  },
  {
   "cell_type": "markdown",
   "metadata": {},
   "source": [
    "文本数据是非结构化的和高噪声的。在执行文本时，拥有合理标记的训练数据和有监督学习大有裨益。但是文档聚类是一个无监督学习过程，我们将尝试通过让机器学习各种各样的文本文档及其特征、相似度以及他们之间的差异，来将文档分割和分类为单独的类别。这使得文档聚类更有挑战性。考虑一个涉及各种不同的概念和想法的文档语料库。"
   ]
  },
  {
   "cell_type": "markdown",
   "metadata": {},
   "source": [
    "## 重要概念"
   ]
  },
  {
   "cell_type": "markdown",
   "metadata": {},
   "source": [
    "* ###  信息检索"
   ]
  },
  {
   "cell_type": "markdown",
   "metadata": {},
   "source": [
    "信息检索是根据某些需求从存储信息的语料库或实体中检索或获取相关信息源的过程。\n",
    "文档和信息与用户需求的相关性可以通过几种方式进行衡量。它包括从搜索文本中查找特定关键字，或使用一些相似度度量来查看文档与输入查询的相似度排名或得分。这与字符串匹配或正则表达式匹配完全不同，因为相较于文档集合中的字符串，搜索字符串中的单词常常具有不同的顺序、上下文和语义，而这些单词的含义基于同义词、反义词和否定修饰符可以有多种可能的结果"
   ]
  },
  {
   "cell_type": "code",
   "execution_count": null,
   "metadata": {
    "collapsed": true
   },
   "outputs": [],
   "source": []
  }
 ],
 "metadata": {
  "kernelspec": {
   "display_name": "Python 3",
   "language": "python",
   "name": "python3"
  },
  "language_info": {
   "codemirror_mode": {
    "name": "ipython",
    "version": 3
   },
   "file_extension": ".py",
   "mimetype": "text/x-python",
   "name": "python",
   "nbconvert_exporter": "python",
   "pygments_lexer": "ipython3",
   "version": "3.6.3"
  }
 },
 "nbformat": 4,
 "nbformat_minor": 2
}
