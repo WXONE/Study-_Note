{
 "cells": [
  {
   "cell_type": "markdown",
   "metadata": {},
   "source": [
    "### 句子切分"
   ]
  },
  {
   "cell_type": "code",
   "execution_count": 2,
   "metadata": {
    "collapsed": true
   },
   "outputs": [],
   "source": [
    "import nltk\n",
    "from nltk.corpus import gutenberg\n",
    "from pprint import pprint"
   ]
  },
  {
   "cell_type": "code",
   "execution_count": 3,
   "metadata": {
    "collapsed": true
   },
   "outputs": [],
   "source": [
    "alice = gutenberg.raw(fileids = 'carroll-alice.txt')\n",
    "sample_text = 'We will discuss briefly about the basic syntax,structure and design philosophies.There is a defined hierarchical syntax for Python code which you should remember when writing code !Python is a really powerful programming language!'"
   ]
  },
  {
   "cell_type": "code",
   "execution_count": 4,
   "metadata": {},
   "outputs": [
    {
     "name": "stdout",
     "output_type": "stream",
     "text": [
      "144395\n"
     ]
    }
   ],
   "source": [
    "print (len(alice))"
   ]
  },
  {
   "cell_type": "code",
   "execution_count": 5,
   "metadata": {},
   "outputs": [
    {
     "name": "stdout",
     "output_type": "stream",
     "text": [
      "[Alice's Adventures in Wonderland by Lewis Carroll 1865]\n",
      "\n",
      "CHAPTER I. Down the Rabbit-Hole\n",
      "\n",
      "Alice was\n"
     ]
    }
   ],
   "source": [
    "print(alice[0:100])"
   ]
  },
  {
   "cell_type": "markdown",
   "metadata": {},
   "source": [
    "nltk.sent_tokenize 函数是nltk推荐的默认的句子切分函数。它内部使用了一个PunktSentenceTokenizer类的实例，然而，它不仅仅是一个普通的对象或实例——它已经在几种语言模型上完成了预训练(牛批)，并且在除英语外的许多主流语言上取得了良好的运行效果"
   ]
  },
  {
   "cell_type": "markdown",
   "metadata": {},
   "source": [
    "以下代码展示了该函数在示例文本中的基本用法："
   ]
  },
  {
   "cell_type": "code",
   "execution_count": 6,
   "metadata": {
    "collapsed": true
   },
   "outputs": [],
   "source": [
    "default_st = nltk.sent_tokenize\n",
    "alice_sentences = default_st(text = alice)\n",
    "sample_sentences = default_st(text = sample_text)"
   ]
  },
  {
   "cell_type": "code",
   "execution_count": 7,
   "metadata": {},
   "outputs": [
    {
     "name": "stdout",
     "output_type": "stream",
     "text": [
      "Total sentences in sample_text: 1\n"
     ]
    }
   ],
   "source": [
    "print ('Total sentences in sample_text:',len(sample_sentences))"
   ]
  },
  {
   "cell_type": "code",
   "execution_count": 8,
   "metadata": {},
   "outputs": [
    {
     "name": "stdout",
     "output_type": "stream",
     "text": [
      "Sample text sentences:-\n",
      "['We will discuss briefly about the basic syntax,structure and design '\n",
      " 'philosophies.There is a defined hierarchical syntax for Python code which '\n",
      " 'you should remember when writing code !Python is a really powerful '\n",
      " 'programming language!']\n"
     ]
    }
   ],
   "source": [
    "print('Sample text sentences:-')\n",
    "pprint(sample_sentences)"
   ]
  },
  {
   "cell_type": "code",
   "execution_count": 9,
   "metadata": {},
   "outputs": [
    {
     "name": "stdout",
     "output_type": "stream",
     "text": [
      "\n",
      "Total sentences in alice: 1625\n"
     ]
    }
   ],
   "source": [
    "print('\\nTotal sentences in alice:',len(alice_sentences))"
   ]
  },
  {
   "cell_type": "code",
   "execution_count": 10,
   "metadata": {},
   "outputs": [
    {
     "name": "stdout",
     "output_type": "stream",
     "text": [
      "First 5 sentences in alice\"-\n",
      "[\"[Alice's Adventures in Wonderland by Lewis Carroll 1865]\\n\\nCHAPTER I.\",\n",
      " 'Down the Rabbit-Hole\\n'\n",
      " '\\n'\n",
      " 'Alice was beginning to get very tired of sitting by her sister on the\\n'\n",
      " 'bank, and of having nothing to do: once or twice she had peeped into the\\n'\n",
      " 'book her sister was reading, but it had no pictures or conversations in\\n'\n",
      " \"it, 'and what is the use of a book,' thought Alice 'without pictures or\\n\"\n",
      " \"conversation?'\",\n",
      " 'So she was considering in her own mind (as well as she could, for the\\n'\n",
      " 'hot day made her feel very sleepy and stupid), whether the pleasure\\n'\n",
      " 'of making a daisy-chain would be worth the trouble of getting up and\\n'\n",
      " 'picking the daisies, when suddenly a White Rabbit with pink eyes ran\\n'\n",
      " 'close by her.',\n",
      " 'There was nothing so VERY remarkable in that; nor did Alice think it so\\n'\n",
      " \"VERY much out of the way to hear the Rabbit say to itself, 'Oh dear!\",\n",
      " 'Oh dear!']\n"
     ]
    }
   ],
   "source": [
    "print('First 5 sentences in alice\"-')\n",
    "pprint(alice_sentences[0:5])"
   ]
  },
  {
   "cell_type": "markdown",
   "metadata": {},
   "source": [
    "### 词语切分"
   ]
  },
  {
   "cell_type": "markdown",
   "metadata": {},
   "source": [
    "主流接口：\n",
    "word_tokenize\n",
    "\n",
    "TreebankWordTokenizer\n",
    "\n",
    "RegexpTokenizer\n",
    "\n",
    "从RegexpTokenizer继承的切分器"
   ]
  },
  {
   "cell_type": "markdown",
   "metadata": {},
   "source": [
    "我们将使用例句“The brown fox wasn't that quick and he couldn't win the race \"作为各种切分器的输入，nltk.word_tokenize 函数是nltk默认并且推荐的词语切分器。该切分器实际上是TreebankWordTokenizer类的一个实例或者对象，并且是该核心类的一个封装"
   ]
  },
  {
   "cell_type": "code",
   "execution_count": 11,
   "metadata": {},
   "outputs": [
    {
     "name": "stdout",
     "output_type": "stream",
     "text": [
      "['The', 'brown', 'fox', 'was', \"n't\", 'that', 'quick', 'and', 'he', 'could', \"n't\", 'win', 'the', 'race']\n"
     ]
    }
   ],
   "source": [
    "sentence = \"The brown fox wasn't that quick and he couldn't win the race\"\n",
    "default_wt = nltk.word_tokenize\n",
    "words = default_wt(sentence)\n",
    "print(words)"
   ]
  },
  {
   "cell_type": "markdown",
   "metadata": {},
   "source": [
    "使用TreebankWordTokenizer"
   ]
  },
  {
   "cell_type": "code",
   "execution_count": 12,
   "metadata": {},
   "outputs": [
    {
     "name": "stdout",
     "output_type": "stream",
     "text": [
      "['The', 'brown', 'fox', 'was', \"n't\", 'that', 'quick', 'and', 'he', 'could', \"n't\", 'win', 'the', 'race']\n"
     ]
    }
   ],
   "source": [
    "treebank_wt = nltk.TreebankWordTokenizer()\n",
    "words = treebank_wt.tokenize(sentence)\n",
    "print(words)"
   ]
  },
  {
   "cell_type": "markdown",
   "metadata": {},
   "source": [
    "使用正则表达式和RegeTokenizer类"
   ]
  },
  {
   "cell_type": "code",
   "execution_count": 13,
   "metadata": {
    "collapsed": true
   },
   "outputs": [],
   "source": [
    "TOKEN_PATTERN = r'\\w+'"
   ]
  },
  {
   "cell_type": "code",
   "execution_count": 14,
   "metadata": {},
   "outputs": [
    {
     "name": "stdout",
     "output_type": "stream",
     "text": [
      "['The', 'brown', 'fox', 'wasn', 't', 'that', 'quick', 'and', 'he', 'couldn', 't', 'win', 'the', 'race']\n"
     ]
    }
   ],
   "source": [
    "regex_wt = nltk.RegexpTokenizer(pattern = TOKEN_PATTERN,gaps = False)\n",
    "words = regex_wt.tokenize(sentence)\n",
    "print(words)"
   ]
  },
  {
   "cell_type": "code",
   "execution_count": 15,
   "metadata": {},
   "outputs": [
    {
     "name": "stdout",
     "output_type": "stream",
     "text": [
      "['The', 'brown', 'fox', 'wasn', 't', 'that', 'quick', 'and', 'he', 'couldn', 't', 'win', 'the', 'race']\n"
     ]
    }
   ],
   "source": [
    "GAP_PATTERN = r'\\s+'\n",
    "regex_wt = nltk.RegexpTokenizer(pattern = GAP_PATTERN,gaps = True)\n",
    "print(words)"
   ]
  },
  {
   "cell_type": "code",
   "execution_count": 16,
   "metadata": {},
   "outputs": [
    {
     "name": "stdout",
     "output_type": "stream",
     "text": [
      "[(0, 3), (4, 9), (10, 13), (14, 20), (21, 25), (26, 31), (32, 35), (36, 38), (39, 47), (48, 51), (52, 55), (56, 60)]\n",
      "['The', 'brown', 'fox', \"wasn't\", 'that', 'quick', 'and', 'he', \"couldn't\", 'win', 'the', 'race']\n"
     ]
    }
   ],
   "source": [
    "word_indices = list(regex_wt.span_tokenize(sentence))\n",
    "print (word_indices)\n",
    "print([sentence[start:end]for start ,end in word_indices])"
   ]
  },
  {
   "cell_type": "markdown",
   "metadata": {},
   "source": [
    "## 文本规范化"
   ]
  },
  {
   "cell_type": "markdown",
   "metadata": {},
   "source": [
    "文本规范化定义为这样的一个过程，它包含一系列步骤，一次是转换，清洗以及将文本数据标准化成可供NLP、分析系统和应用程序使用的格式。通常，文本切分本身也是文本规范化的一部分。除了文本切分以外，还有各种其他技术，包括文本清洗、大小写转换、词语校正、停用词删除、词干提取和词形还原。文本规范化也常常成为文本清洗或转换"
   ]
  },
  {
   "cell_type": "code",
   "execution_count": 17,
   "metadata": {
    "collapsed": true
   },
   "outputs": [],
   "source": [
    "import nltk\n",
    "import re\n",
    "import string\n",
    "from pprint import pprint\n",
    "corpus = [\"The brown fox wasn't that quick and he couldn't win the race \",\n",
    "         \"Hey that's a great deal ! I just bought a phone for 199\",\n",
    "         \"@@ You'll (learn) a **lot** in the book .Python is an amazing language!@@\"]"
   ]
  },
  {
   "cell_type": "markdown",
   "metadata": {},
   "source": [
    "### 文本清洗"
   ]
  },
  {
   "cell_type": "markdown",
   "metadata": {},
   "source": [
    "可以使用nltk的clean_html函数清洗来自HTML的不必要的标记，甚至是BeautifulSoup库来解析HTML数据，你还可以使用自定义的逻辑，包括正则表达式，xpath和lxml来解析xml数据。从JSON获取数据较为容易，因为它具有明确的键值注释。"
   ]
  },
  {
   "cell_type": "markdown",
   "metadata": {},
   "source": [
    "### 文本切分"
   ]
  },
  {
   "cell_type": "markdown",
   "metadata": {},
   "source": [
    "这里介绍一个通用的切分函数"
   ]
  },
  {
   "cell_type": "code",
   "execution_count": 18,
   "metadata": {
    "collapsed": true
   },
   "outputs": [],
   "source": [
    "def tokenize_text(text):\n",
    "    sentences = nltk.sent_tokenize(text)\n",
    "    word_tokens = [nltk.word_tokenize(sentence)for sentence in sentences]\n",
    "    return word_tokens"
   ]
  },
  {
   "cell_type": "markdown",
   "metadata": {},
   "source": [
    "这个函数的功能是接受文本数据，再从中提取句子，最后将每个句子划分成标识，这些标识可以是单词、特殊字符或标点符号。以下代码说明了该函数的功能："
   ]
  },
  {
   "cell_type": "code",
   "execution_count": 19,
   "metadata": {},
   "outputs": [
    {
     "name": "stdout",
     "output_type": "stream",
     "text": [
      "[[['The',\n",
      "   'brown',\n",
      "   'fox',\n",
      "   'was',\n",
      "   \"n't\",\n",
      "   'that',\n",
      "   'quick',\n",
      "   'and',\n",
      "   'he',\n",
      "   'could',\n",
      "   \"n't\",\n",
      "   'win',\n",
      "   'the',\n",
      "   'race']],\n",
      " [['Hey', 'that', \"'s\", 'a', 'great', 'deal', '!'],\n",
      "  ['I', 'just', 'bought', 'a', 'phone', 'for', '199']],\n",
      " [['@',\n",
      "   '@',\n",
      "   'You',\n",
      "   \"'ll\",\n",
      "   '(',\n",
      "   'learn',\n",
      "   ')',\n",
      "   'a',\n",
      "   '**lot**',\n",
      "   'in',\n",
      "   'the',\n",
      "   'book',\n",
      "   '.Python',\n",
      "   'is',\n",
      "   'an',\n",
      "   'amazing',\n",
      "   'language',\n",
      "   '!'],\n",
      "  ['@', '@']]]\n"
     ]
    }
   ],
   "source": [
    "token_list = [tokenize_text(text)for text in corpus]\n",
    "pprint(token_list)"
   ]
  },
  {
   "cell_type": "markdown",
   "metadata": {},
   "source": [
    "### 删除特殊字符"
   ]
  },
  {
   "cell_type": "markdown",
   "metadata": {},
   "source": [
    "标点和特殊字符往往没什么意义，我们将在切分前后删除这两类特殊字符，以下显示了在切分之后删除特殊字符"
   ]
  },
  {
   "cell_type": "code",
   "execution_count": 20,
   "metadata": {
    "collapsed": true
   },
   "outputs": [],
   "source": [
    "def remove_characters_after_tokenization(tokens):\n",
    "    pattern = re.compile('[{}]'.format(re.escape(string.punctuation)))\n",
    "    filtered_tokens = filter(None,[pattern.sub('',token)for token in tokens])\n",
    "    return filtered_tokens"
   ]
  },
  {
   "cell_type": "code",
   "execution_count": 21,
   "metadata": {},
   "outputs": [
    {
     "name": "stdout",
     "output_type": "stream",
     "text": [
      "[<filter object at 0x000001909F0F5C18>, <filter object at 0x000001909F0F5C50>, <filter object at 0x000001909F0E5208>]\n"
     ]
    }
   ],
   "source": [
    "filtered_list_1 = [filter(None,[remove_characters_after_tokenization(tokens)for tokens in sentence_tokens])for sentence_tokens in token_list]\n",
    "print (filtered_list_1)"
   ]
  },
  {
   "cell_type": "markdown",
   "metadata": {},
   "source": [
    "在文本切分之前删除特殊字符（推荐）："
   ]
  },
  {
   "cell_type": "code",
   "execution_count": 22,
   "metadata": {
    "collapsed": true
   },
   "outputs": [],
   "source": [
    "def remove_characters_before_tokenization(sentence,keep_apostrophes = False):\n",
    "    sentence = sentence.strip()\n",
    "    if keep_apostrophes:\n",
    "        PATTERN = r'[?|$|&|*|%|@|(|)|~]'#add other characters here to remove them\n",
    "        filtered_sentence = re.sub(PATTERN,r'',sentence)\n",
    "    else:\n",
    "        PATTERN = r'[^a-zA-Z0-9]'#only extract alpha-numeric characters\n",
    "        filtered_sentence = re.sub(PATTERN,r'',sentence)\n",
    "    return filtered_sentence"
   ]
  },
  {
   "cell_type": "code",
   "execution_count": 23,
   "metadata": {},
   "outputs": [
    {
     "name": "stdout",
     "output_type": "stream",
     "text": [
      "['Thebrownfoxwasntthatquickandhecouldntwintherace', 'HeythatsagreatdealIjustboughtaphonefor199', 'YoulllearnalotinthebookPythonisanamazinglanguage']\n"
     ]
    }
   ],
   "source": [
    "filtered_list_2 = [remove_characters_before_tokenization(sentence)for sentence in corpus]\n",
    "print (filtered_list_2) "
   ]
  },
  {
   "cell_type": "code",
   "execution_count": 24,
   "metadata": {},
   "outputs": [
    {
     "name": "stdout",
     "output_type": "stream",
     "text": [
      "[\"The brown fox wasn't that quick and he couldn't win the race\", \"Hey that's a great deal ! I just bought a phone for 199\", \" You'll learn a lot in the book .Python is an amazing language!\"]\n"
     ]
    }
   ],
   "source": [
    "cleaned_corpus = [remove_characters_before_tokenization(sentence,keep_apostrophes = True)for sentence in corpus]\n",
    "print(cleaned_corpus)"
   ]
  },
  {
   "cell_type": "markdown",
   "metadata": {},
   "source": [
    "### 扩展缩写词"
   ]
  },
  {
   "cell_type": "markdown",
   "metadata": {},
   "source": [
    "缩写词是词或者音节的缩短形式，他们既在书面形式中存在，也在口语中存在，比如“is not”缩写为“isn't”，缩写词中撇号用来表示缩写，而一些元音和其他字母则被删除了，通常，在正式书写时会避免使用缩写词，但在非正式情况下，他们被广泛使用。\n",
    "\n",
    "缩写词为NLP和文本分析制造了一个难题，首先因为在该单词中有一个特殊的撇号字符，此外，我们有两个甚至更多的单词由缩写词表示。\n",
    "\n",
    "可以使用映射关系来扩展缩写词，我们创建了一个缩写词及其扩展形式的词汇表，你可以在Python库中的contractions.py 中访问他们"
   ]
  },
  {
   "cell_type": "markdown",
   "metadata": {},
   "source": [
    "### 大小写转换"
   ]
  },
  {
   "cell_type": "markdown",
   "metadata": {},
   "source": [
    "函数lower()和upper() "
   ]
  },
  {
   "cell_type": "markdown",
   "metadata": {},
   "source": [
    "### 删除停用词"
   ]
  },
  {
   "cell_type": "markdown",
   "metadata": {},
   "source": [
    "停用词是指没有或只有极小意义的词语，通常在处理过程中将他们从文本中删除，以保留具有最大意义及语境的词语，如果基于单个标识聚合语料库，然后检查词语频率，就会发现停用词的出现频率是最高的，类似\"a\",\"the\",\"me\",\"and so on\"这样的单词或词组就是停用词，每个领域都有可能有一系列独用的停用词。以下代码展示了一种过滤和删除英语停用词的方法："
   ]
  },
  {
   "cell_type": "code",
   "execution_count": 25,
   "metadata": {
    "collapsed": true
   },
   "outputs": [],
   "source": [
    "def remove_stopwords(tokens):\n",
    "    stopword_list = nltk.corpus.stopwords.words('english')\n",
    "    filtered_tokens = [token for token in tokens if token not in stopword_list]\n",
    "    return filtered_tokens"
   ]
  },
  {
   "cell_type": "markdown",
   "metadata": {},
   "source": [
    "在这个函数中，nltk中有一个英文的停用词表。我们使用tokeniez_text 函数来分割在上一节中获得的expanded_corpus然后使用前面的函数删除停用词："
   ]
  },
  {
   "cell_type": "code",
   "execution_count": 26,
   "metadata": {},
   "outputs": [
    {
     "ename": "NameError",
     "evalue": "name 'expanded_corpus' is not defined",
     "output_type": "error",
     "traceback": [
      "\u001b[1;31m---------------------------------------------------------------------------\u001b[0m",
      "\u001b[1;31mNameError\u001b[0m                                 Traceback (most recent call last)",
      "\u001b[1;32m<ipython-input-26-1b61e00d1375>\u001b[0m in \u001b[0;36m<module>\u001b[1;34m()\u001b[0m\n\u001b[1;32m----> 1\u001b[1;33m \u001b[0mexpanded_corpus_tokens\u001b[0m \u001b[1;33m=\u001b[0m \u001b[1;33m[\u001b[0m\u001b[0mtokenize_text\u001b[0m\u001b[1;33m(\u001b[0m\u001b[0mtext\u001b[0m\u001b[1;33m)\u001b[0m\u001b[1;32mfor\u001b[0m \u001b[0mtext\u001b[0m \u001b[1;32min\u001b[0m \u001b[0mexpanded_corpus\u001b[0m\u001b[1;33m]\u001b[0m\u001b[1;33m\u001b[0m\u001b[0m\n\u001b[0m\u001b[0;32m      2\u001b[0m \u001b[0mfiltered_list_3\u001b[0m \u001b[1;33m=\u001b[0m \u001b[1;33m[\u001b[0m\u001b[1;33m[\u001b[0m\u001b[0mremove_stopwords\u001b[0m\u001b[1;33m(\u001b[0m\u001b[0mtokens\u001b[0m\u001b[1;33m)\u001b[0m\u001b[1;32mfor\u001b[0m \u001b[0mtokens\u001b[0m \u001b[1;32min\u001b[0m \u001b[0msentence_tokens\u001b[0m\u001b[1;33m]\u001b[0m\u001b[1;32mfor\u001b[0m \u001b[0msentence_tokens\u001b[0m \u001b[1;32min\u001b[0m \u001b[0mexpanded_corpus_tokens\u001b[0m\u001b[1;33m]\u001b[0m\u001b[1;33m\u001b[0m\u001b[0m\n\u001b[0;32m      3\u001b[0m \u001b[0mprint\u001b[0m\u001b[1;33m(\u001b[0m\u001b[0mfiltered_list_3\u001b[0m\u001b[1;33m)\u001b[0m\u001b[1;33m\u001b[0m\u001b[0m\n",
      "\u001b[1;31mNameError\u001b[0m: name 'expanded_corpus' is not defined"
     ]
    }
   ],
   "source": [
    "expanded_corpus_tokens = [tokenize_text(text)for text in expanded_corpus]\n",
    "filtered_list_3 = [[remove_stopwords(tokens)for tokens in sentence_tokens]for sentence_tokens in expanded_corpus_tokens]\n",
    "print(filtered_list_3)"
   ]
  },
  {
   "cell_type": "markdown",
   "metadata": {},
   "source": [
    "## 词语校正"
   ]
  },
  {
   "cell_type": "markdown",
   "metadata": {},
   "source": [
    "文本规范化面临的主要挑战之一就是文本中存在不正确的单词，这里不正确的定义包括拼写错误的单词以及某些字母过多重复的单词，举例来说想要表达强烈情绪的人会把“finally”拼写为“finallllyyyy”我们的主要目的就是将这些单词标准化为正确形式。"
   ]
  },
  {
   "cell_type": "markdown",
   "metadata": {},
   "source": [
    "#### 1.校正重复字符"
   ]
  },
  {
   "cell_type": "markdown",
   "metadata": {},
   "source": [
    "在这里，我们将介绍一种语法和语义组合使用的拼写校正方法，首先，从矫正这些单词的语法开始，然后转向语义。\n",
    "\n",
    "算法的第一步是，使用正则表达式来识别单词中的重复字符，然后使用置换来逐个删除重复字符，考虑前面例子中“finallllyyyy”一词，可以使用模式r'(\\*w)(\\w)\\2(\\w*)'来识别单词中在两个不同字符之间的重复字符。通过利用正则表达式匹配组（组1，2，3）并使用模式r'\\1\\2\\3'，能够使用置换方法消除一个重复字符，然后迭代此过程，直到消除所有重复字符。"
   ]
  },
  {
   "cell_type": "code",
   "execution_count": 33,
   "metadata": {},
   "outputs": [
    {
     "name": "stdout",
     "output_type": "stream",
     "text": [
      "Step:1Word:finallllyyy\n",
      "Step:2Word:finallllyy\n",
      "Step:3Word:finalllly\n",
      "Step:4Word:finallly\n",
      "Step:5Word:finally\n",
      "Step:6Word:finaly\n",
      "Final word: finaly\n"
     ]
    }
   ],
   "source": [
    "old_word = 'finallllyyyy'\n",
    "repeat_pattern = re.compile(r'(\\w*)(\\w)\\2(\\w*)')\n",
    "match_substitution = r'\\1\\2\\3'\n",
    "step = 1\n",
    "while True:\n",
    "    #remove one repeated character\n",
    "    new_word = repeat_pattern.sub(match_substitution,old_word)\n",
    "    if new_word != old_word:\n",
    "        print('Step:{}Word:{}'.format(step,new_word))\n",
    "        step += 1  #update step\n",
    "        old_word = new_word\n",
    "        continue\n",
    "    else:\n",
    "        print(\"Final word:\",new_word)\n",
    "        break"
   ]
  },
  {
   "cell_type": "markdown",
   "metadata": {},
   "source": [
    "实际上我们在step3中就得到了正确的单词“finally”，现在我们将使用WordNet语料库来检查每个步骤得到的单词，一旦获得有效单词就立即终止循环，这就引入了算法所需的语义校正，如下面的代码所示："
   ]
  },
  {
   "cell_type": "code",
   "execution_count": 32,
   "metadata": {},
   "outputs": [
    {
     "name": "stdout",
     "output_type": "stream",
     "text": [
      "Step:1,Word:finallllyyy\n",
      "Step:2,Word:finallllyy\n",
      "Step:3,Word:finalllly\n",
      "Step:4,Word:finallly\n",
      "Step:5,Word:finally\n",
      "Final correct word: finally\n"
     ]
    }
   ],
   "source": [
    "from nltk.corpus import wordnet \n",
    "old_word = 'finallllyyyy'\n",
    "repeat_pattern = re.compile(r'(\\w*)(\\w)\\2(\\w*)')\n",
    "match_substitution = r'\\1\\2\\3'\n",
    "step = 1\n",
    "\n",
    "while True:\n",
    "    if wordnet.synsets(old_word):\n",
    "        print(\"Final correct word:\",old_word)\n",
    "        break\n",
    "    new_word = repeat_pattern.sub(match_substitution,old_word)\n",
    "    if new_word != old_word:\n",
    "        print('Step:{},Word:{}'.format(step,new_word))\n",
    "        step += 1\n",
    "        old_word = new_word\n",
    "        continue\n",
    "    else:\n",
    "        print(\"Final word:\",new_word)\n",
    "        break"
   ]
  },
  {
   "cell_type": "markdown",
   "metadata": {},
   "source": [
    "可以通过将该逻辑编写到函数中来构建一个更好的代码段，以便使其在校正词语时变得更为通用，如下面的代码段："
   ]
  },
  {
   "cell_type": "code",
   "execution_count": 34,
   "metadata": {
    "collapsed": true
   },
   "outputs": [],
   "source": [
    "from nltk.corpus import wordnet\n",
    "\n",
    "def remove_repeated_characters(tokens):\n",
    "    repeat_pattern = re.compile(r'(\\w*)(\\w)\\2(\\w*)')\n",
    "    match_substitution = r'\\1\\2\\3'\n",
    "    def replace(old_word):\n",
    "        if wordnet.synsets(old_word):\n",
    "            return old_word\n",
    "        new_word = repeat_pattern.sub(match_substitution,old_word)\n",
    "        return replace(new_word) if new_word != old_word else new_word\n",
    "    correct_tokens = [replace(word) for word in tokens]\n",
    "    return correct_tokens"
   ]
  },
  {
   "cell_type": "markdown",
   "metadata": {},
   "source": [
    "该段代码使用内部函数replace()来实现我们的算法，然后在外部函数remove_repeated_characters()中对句子中的每个标识重复调用他"
   ]
  },
  {
   "cell_type": "code",
   "execution_count": 36,
   "metadata": {},
   "outputs": [
    {
     "name": "stdout",
     "output_type": "stream",
     "text": [
      "['My', 'schooooooooooooooooooooooooooooooooool', 'is', 'reallllllllllllllllllllllllllllyyy', 'amazzzzzzzzzzzzzzzzzinggggggggg', '23333']\n"
     ]
    }
   ],
   "source": [
    "sample_sentence = 'My schooooooooooooooooooooooooooooooooool is reallllllllllllllllllllllllllllyyy amazzzzzzzzzzzzzzzzzinggggggggg 23333'\n",
    "sample_sentence_tokens = tokenize_text(sample_sentence)[0]\n",
    "print (sample_sentence_tokens)"
   ]
  },
  {
   "cell_type": "code",
   "execution_count": 37,
   "metadata": {},
   "outputs": [
    {
     "name": "stdout",
     "output_type": "stream",
     "text": [
      "['My', 'school', 'is', 'really', 'amazing', '23']\n"
     ]
    }
   ],
   "source": [
    "print (remove_repeated_characters(sample_sentence_tokens))"
   ]
  },
  {
   "cell_type": "markdown",
   "metadata": {},
   "source": [
    "#### 校正拼写错误"
   ]
  },
  {
   "cell_type": "markdown",
   "metadata": {},
   "source": [
    "我们面临的另一个问题是认为错误导致的拼写错误，甚至是由于自动更正文本等功能导致的及其拼写错误。\n",
    "\n",
    "最著名的处理拼写错误的算法是由谷歌开发的，你可以在http://norvig.com/spell-collect.html 上找到完整详细的算法"
   ]
  },
  {
   "cell_type": "markdown",
   "metadata": {},
   "source": [
    "我们的主要目标是，给出一个单词，找到这个单词最有可能的正确形式。我们遵循的方法是生成一系列类似输入词的候选词，并从该集合中选择最有可能的单词作为正确的单词，我们使用标准英文单词语料库，根据语料库中单词的频率，从距离输入单词最近的最后一组候选词中识别出正确的单词，这个距离（即一个单词与输入单词的测量距离）也称为编辑距离。我们使用的输入语料库包含Gutenberg语料库书籍、维基词典和英国国家语料库中的最常用单词列表。"
   ]
  },
  {
   "cell_type": "code",
   "execution_count": 44,
   "metadata": {},
   "outputs": [
    {
     "name": "stdout",
     "output_type": "stream",
     "text": [
      "[('the', 66492), ('of', 33683), ('and', 30259), ('to', 22830), ('in', 18743), ('a', 17369), ('that', 9222), ('he', 8952), ('was', 8760), ('it', 8615)]\n"
     ]
    }
   ],
   "source": [
    "import re,collections\n",
    "def tokens(text):\n",
    "    \"\"\"\n",
    "    Get all words from the corpus\n",
    "    \"\"\"\n",
    "    return re.findall('[a-z]+',text.lower())\n",
    "WORDS = tokens(open('big.txt').read())\n",
    "WORD_COUNTS = collections.Counter(WORDS)\n",
    "#top10 words in the corpus\n",
    "print (WORD_COUNTS.most_common(10))"
   ]
  },
  {
   "cell_type": "markdown",
   "metadata": {},
   "source": [
    "拥有了自己的词汇以后，就可以定义三个函数，计算出与输入单词的编辑距离为0、1和2的单词组，这些编辑距离由插入、删除、添加和调换位置等操作产生。"
   ]
  },
  {
   "cell_type": "code",
   "execution_count": 67,
   "metadata": {
    "collapsed": true
   },
   "outputs": [],
   "source": [
    "import sys,string\n",
    "def edits0(word):\n",
    "    \"\"\"\n",
    "    Return all strings that are zero edits away\n",
    "    from the input word(i.e.,the word itself)\n",
    "    \"\"\"\n",
    "    return {word}\n",
    "def edits1(word):\n",
    "    \"\"\"Retuern all strings that are one edit away from the input word is made of\"\"\"\n",
    "    alphabet = 'abcdefghijklmnopqrstuvwxyz'\n",
    "    def splits(word):\n",
    "        return [(word[:i],word[i:])for i in range(len(word)+1)]\n",
    "\n",
    "    pairs  =  splits(word)\n",
    "    deletes =  [a+b[1:]  for (a,b) in pairs if b]\n",
    "    transposes = [a+b[1]+b[0]+b[2:] for (a,b) in pairs if len(b)>1]\n",
    "    replaces  = [a+c+b[1:] for (a,b)in pairs for c in alphabet if b]\n",
    "    inserts = [a+c+b for (a,b) in pairs for c in alphabet]\n",
    "    return set(deletes+transposes+replaces+inserts)\n",
    "def edits2(word):\n",
    "    return {e2 for e1 in edits1(word)for e2 in edits1(e1)}"
   ]
  },
  {
   "cell_type": "markdown",
   "metadata": {},
   "source": [
    "我们还可以定义一个known()函数，该函数根据单词是否存在于词汇词典OWRD_COUNTS中，从edit函数得出的候选词组中返回一个单词子集，这使我们可以从候选词组中获得一个有效单词列表："
   ]
  },
  {
   "cell_type": "code",
   "execution_count": 55,
   "metadata": {
    "collapsed": true
   },
   "outputs": [],
   "source": [
    "def known(words):\n",
    "    return {w for w in words if w in WORD_COUNTS}"
   ]
  },
  {
   "cell_type": "code",
   "execution_count": 56,
   "metadata": {},
   "outputs": [
    {
     "data": {
      "text/plain": [
       "{'finally'}"
      ]
     },
     "execution_count": 56,
     "metadata": {},
     "output_type": "execute_result"
    }
   ],
   "source": [
    "word = 'finally'\n",
    "edits0(word)"
   ]
  },
  {
   "cell_type": "code",
   "execution_count": 57,
   "metadata": {},
   "outputs": [
    {
     "data": {
      "text/plain": [
       "{'finally'}"
      ]
     },
     "execution_count": 57,
     "metadata": {},
     "output_type": "execute_result"
    }
   ],
   "source": [
    "known(edits0(word))"
   ]
  },
  {
   "cell_type": "code",
   "execution_count": 63,
   "metadata": {},
   "outputs": [
    {
     "data": {
      "text/plain": [
       "{'afinally',\n",
       " 'ainally',\n",
       " 'bfinally',\n",
       " 'binally',\n",
       " 'cfinally',\n",
       " 'cinally',\n",
       " 'dfinally',\n",
       " 'dinally',\n",
       " 'efinally',\n",
       " 'einally',\n",
       " 'fainally',\n",
       " 'fanally',\n",
       " 'fbinally',\n",
       " 'fbnally',\n",
       " 'fcinally',\n",
       " 'fcnally',\n",
       " 'fdinally',\n",
       " 'fdnally',\n",
       " 'feinally',\n",
       " 'fenally',\n",
       " 'ffinally',\n",
       " 'ffnally',\n",
       " 'fginally',\n",
       " 'fgnally',\n",
       " 'fhinally',\n",
       " 'fhnally',\n",
       " 'fiaally',\n",
       " 'fially',\n",
       " 'fianally',\n",
       " 'fianlly',\n",
       " 'fibally',\n",
       " 'fibnally',\n",
       " 'fically',\n",
       " 'ficnally',\n",
       " 'fidally',\n",
       " 'fidnally',\n",
       " 'fieally',\n",
       " 'fienally',\n",
       " 'fifally',\n",
       " 'fifnally',\n",
       " 'figally',\n",
       " 'fignally',\n",
       " 'fihally',\n",
       " 'fihnally',\n",
       " 'fiially',\n",
       " 'fiinally',\n",
       " 'fijally',\n",
       " 'fijnally',\n",
       " 'fikally',\n",
       " 'fiknally',\n",
       " 'filally',\n",
       " 'filnally',\n",
       " 'fimally',\n",
       " 'fimnally',\n",
       " 'finaally',\n",
       " 'finaaly',\n",
       " 'finablly',\n",
       " 'finably',\n",
       " 'finaclly',\n",
       " 'finacly',\n",
       " 'finadlly',\n",
       " 'finadly',\n",
       " 'finaelly',\n",
       " 'finaely',\n",
       " 'finaflly',\n",
       " 'finafly',\n",
       " 'finaglly',\n",
       " 'finagly',\n",
       " 'finahlly',\n",
       " 'finahly',\n",
       " 'finailly',\n",
       " 'finaily',\n",
       " 'finajlly',\n",
       " 'finajly',\n",
       " 'finaklly',\n",
       " 'finakly',\n",
       " 'finalaly',\n",
       " 'finalay',\n",
       " 'finalbly',\n",
       " 'finalby',\n",
       " 'finalcly',\n",
       " 'finalcy',\n",
       " 'finaldly',\n",
       " 'finaldy',\n",
       " 'finalely',\n",
       " 'finaley',\n",
       " 'finalfly',\n",
       " 'finalfy',\n",
       " 'finalgly',\n",
       " 'finalgy',\n",
       " 'finalhly',\n",
       " 'finalhy',\n",
       " 'finalily',\n",
       " 'finaliy',\n",
       " 'finaljly',\n",
       " 'finaljy',\n",
       " 'finalkly',\n",
       " 'finalky',\n",
       " 'finall',\n",
       " 'finalla',\n",
       " 'finallay',\n",
       " 'finallb',\n",
       " 'finallby',\n",
       " 'finallc',\n",
       " 'finallcy',\n",
       " 'finalld',\n",
       " 'finalldy',\n",
       " 'finalle',\n",
       " 'finalley',\n",
       " 'finallf',\n",
       " 'finallfy',\n",
       " 'finallg',\n",
       " 'finallgy',\n",
       " 'finallh',\n",
       " 'finallhy',\n",
       " 'finalli',\n",
       " 'finalliy',\n",
       " 'finallj',\n",
       " 'finalljy',\n",
       " 'finallk',\n",
       " 'finallky',\n",
       " 'finalll',\n",
       " 'finallly',\n",
       " 'finallm',\n",
       " 'finallmy',\n",
       " 'finalln',\n",
       " 'finallny',\n",
       " 'finallo',\n",
       " 'finalloy',\n",
       " 'finallp',\n",
       " 'finallpy',\n",
       " 'finallq',\n",
       " 'finallqy',\n",
       " 'finallr',\n",
       " 'finallry',\n",
       " 'finalls',\n",
       " 'finallsy',\n",
       " 'finallt',\n",
       " 'finallty',\n",
       " 'finallu',\n",
       " 'finalluy',\n",
       " 'finallv',\n",
       " 'finallvy',\n",
       " 'finallw',\n",
       " 'finallwy',\n",
       " 'finallx',\n",
       " 'finallxy',\n",
       " 'finally',\n",
       " 'finallya',\n",
       " 'finallyb',\n",
       " 'finallyc',\n",
       " 'finallyd',\n",
       " 'finallye',\n",
       " 'finallyf',\n",
       " 'finallyg',\n",
       " 'finallyh',\n",
       " 'finallyi',\n",
       " 'finallyj',\n",
       " 'finallyk',\n",
       " 'finallyl',\n",
       " 'finallym',\n",
       " 'finallyn',\n",
       " 'finallyo',\n",
       " 'finallyp',\n",
       " 'finallyq',\n",
       " 'finallyr',\n",
       " 'finallys',\n",
       " 'finallyt',\n",
       " 'finallyu',\n",
       " 'finallyv',\n",
       " 'finallyw',\n",
       " 'finallyx',\n",
       " 'finallyy',\n",
       " 'finallyz',\n",
       " 'finallz',\n",
       " 'finallzy',\n",
       " 'finalmly',\n",
       " 'finalmy',\n",
       " 'finalnly',\n",
       " 'finalny',\n",
       " 'finaloly',\n",
       " 'finaloy',\n",
       " 'finalply',\n",
       " 'finalpy',\n",
       " 'finalqly',\n",
       " 'finalqy',\n",
       " 'finalrly',\n",
       " 'finalry',\n",
       " 'finalsly',\n",
       " 'finalsy',\n",
       " 'finaltly',\n",
       " 'finalty',\n",
       " 'finaluly',\n",
       " 'finaluy',\n",
       " 'finalvly',\n",
       " 'finalvy',\n",
       " 'finalwly',\n",
       " 'finalwy',\n",
       " 'finalxly',\n",
       " 'finalxy',\n",
       " 'finaly',\n",
       " 'finalyl',\n",
       " 'finalyly',\n",
       " 'finalyy',\n",
       " 'finalzly',\n",
       " 'finalzy',\n",
       " 'finamlly',\n",
       " 'finamly',\n",
       " 'finanlly',\n",
       " 'finanly',\n",
       " 'finaolly',\n",
       " 'finaoly',\n",
       " 'finaplly',\n",
       " 'finaply',\n",
       " 'finaqlly',\n",
       " 'finaqly',\n",
       " 'finarlly',\n",
       " 'finarly',\n",
       " 'finaslly',\n",
       " 'finasly',\n",
       " 'finatlly',\n",
       " 'finatly',\n",
       " 'finaully',\n",
       " 'finauly',\n",
       " 'finavlly',\n",
       " 'finavly',\n",
       " 'finawlly',\n",
       " 'finawly',\n",
       " 'finaxlly',\n",
       " 'finaxly',\n",
       " 'finaylly',\n",
       " 'finayly',\n",
       " 'finazlly',\n",
       " 'finazly',\n",
       " 'finbally',\n",
       " 'finblly',\n",
       " 'fincally',\n",
       " 'finclly',\n",
       " 'findally',\n",
       " 'findlly',\n",
       " 'fineally',\n",
       " 'finelly',\n",
       " 'finfally',\n",
       " 'finflly',\n",
       " 'fingally',\n",
       " 'finglly',\n",
       " 'finhally',\n",
       " 'finhlly',\n",
       " 'finially',\n",
       " 'finilly',\n",
       " 'finjally',\n",
       " 'finjlly',\n",
       " 'finkally',\n",
       " 'finklly',\n",
       " 'finlally',\n",
       " 'finlaly',\n",
       " 'finllly',\n",
       " 'finlly',\n",
       " 'finmally',\n",
       " 'finmlly',\n",
       " 'finnally',\n",
       " 'finnlly',\n",
       " 'finoally',\n",
       " 'finolly',\n",
       " 'finpally',\n",
       " 'finplly',\n",
       " 'finqally',\n",
       " 'finqlly',\n",
       " 'finrally',\n",
       " 'finrlly',\n",
       " 'finsally',\n",
       " 'finslly',\n",
       " 'fintally',\n",
       " 'fintlly',\n",
       " 'finually',\n",
       " 'finully',\n",
       " 'finvally',\n",
       " 'finvlly',\n",
       " 'finwally',\n",
       " 'finwlly',\n",
       " 'finxally',\n",
       " 'finxlly',\n",
       " 'finyally',\n",
       " 'finylly',\n",
       " 'finzally',\n",
       " 'finzlly',\n",
       " 'fioally',\n",
       " 'fionally',\n",
       " 'fipally',\n",
       " 'fipnally',\n",
       " 'fiqally',\n",
       " 'fiqnally',\n",
       " 'firally',\n",
       " 'firnally',\n",
       " 'fisally',\n",
       " 'fisnally',\n",
       " 'fitally',\n",
       " 'fitnally',\n",
       " 'fiually',\n",
       " 'fiunally',\n",
       " 'fivally',\n",
       " 'fivnally',\n",
       " 'fiwally',\n",
       " 'fiwnally',\n",
       " 'fixally',\n",
       " 'fixnally',\n",
       " 'fiyally',\n",
       " 'fiynally',\n",
       " 'fizally',\n",
       " 'fiznally',\n",
       " 'fjinally',\n",
       " 'fjnally',\n",
       " 'fkinally',\n",
       " 'fknally',\n",
       " 'flinally',\n",
       " 'flnally',\n",
       " 'fminally',\n",
       " 'fmnally',\n",
       " 'fnally',\n",
       " 'fnially',\n",
       " 'fninally',\n",
       " 'fnnally',\n",
       " 'foinally',\n",
       " 'fonally',\n",
       " 'fpinally',\n",
       " 'fpnally',\n",
       " 'fqinally',\n",
       " 'fqnally',\n",
       " 'frinally',\n",
       " 'frnally',\n",
       " 'fsinally',\n",
       " 'fsnally',\n",
       " 'ftinally',\n",
       " 'ftnally',\n",
       " 'fuinally',\n",
       " 'funally',\n",
       " 'fvinally',\n",
       " 'fvnally',\n",
       " 'fwinally',\n",
       " 'fwnally',\n",
       " 'fxinally',\n",
       " 'fxnally',\n",
       " 'fyinally',\n",
       " 'fynally',\n",
       " 'fzinally',\n",
       " 'fznally',\n",
       " 'gfinally',\n",
       " 'ginally',\n",
       " 'hfinally',\n",
       " 'hinally',\n",
       " 'ifinally',\n",
       " 'ifnally',\n",
       " 'iinally',\n",
       " 'inally',\n",
       " 'jfinally',\n",
       " 'jinally',\n",
       " 'kfinally',\n",
       " 'kinally',\n",
       " 'lfinally',\n",
       " 'linally',\n",
       " 'mfinally',\n",
       " 'minally',\n",
       " 'nfinally',\n",
       " 'ninally',\n",
       " 'ofinally',\n",
       " 'oinally',\n",
       " 'pfinally',\n",
       " 'pinally',\n",
       " 'qfinally',\n",
       " 'qinally',\n",
       " 'rfinally',\n",
       " 'rinally',\n",
       " 'sfinally',\n",
       " 'sinally',\n",
       " 'tfinally',\n",
       " 'tinally',\n",
       " 'ufinally',\n",
       " 'uinally',\n",
       " 'vfinally',\n",
       " 'vinally',\n",
       " 'wfinally',\n",
       " 'winally',\n",
       " 'xfinally',\n",
       " 'xinally',\n",
       " 'yfinally',\n",
       " 'yinally',\n",
       " 'zfinally',\n",
       " 'zinally'}"
      ]
     },
     "execution_count": 63,
     "metadata": {},
     "output_type": "execute_result"
    }
   ],
   "source": [
    "edits1(word)"
   ]
  },
  {
   "cell_type": "code",
   "execution_count": 64,
   "metadata": {},
   "outputs": [
    {
     "data": {
      "text/plain": [
       "{'finally'}"
      ]
     },
     "execution_count": 64,
     "metadata": {},
     "output_type": "execute_result"
    }
   ],
   "source": [
    "known(edits1(word))"
   ]
  },
  {
   "cell_type": "code",
   "execution_count": 68,
   "metadata": {},
   "outputs": [
    {
     "data": {
      "text/plain": [
       "{'finzalwy',\n",
       " 'tinallny',\n",
       " 'fbyally',\n",
       " 'finazhy',\n",
       " 'finalkyy',\n",
       " 'finlallyo',\n",
       " 'finajlqly',\n",
       " 'tfibally',\n",
       " 'pinalty',\n",
       " 'frfinally',\n",
       " 'dfinaily',\n",
       " 'gfiwally',\n",
       " 'finalgtly',\n",
       " 'finallypj',\n",
       " 'finmxlly',\n",
       " 'linalxly',\n",
       " 'finalflyz',\n",
       " 'finalouy',\n",
       " 'finhgly',\n",
       " 'ufinaley',\n",
       " 'finrcly',\n",
       " 'yinaglly',\n",
       " 'tfinallr',\n",
       " 'finaldiy',\n",
       " 'fzinallye',\n",
       " 'fevinally',\n",
       " 'pinalky',\n",
       " 'fibaally',\n",
       " 'ofinalldy',\n",
       " 'finallxry',\n",
       " 'finalafy',\n",
       " 'fpirnally',\n",
       " 'fiynamly',\n",
       " 'fiptnally',\n",
       " 'fpinallj',\n",
       " 'fiwdally',\n",
       " 'fijnalsly',\n",
       " 'finallys',\n",
       " 'ainalmy',\n",
       " 'oinalwly',\n",
       " 'finaqrlly',\n",
       " 'fknaally',\n",
       " 'fknallyl',\n",
       " 'fifnadly',\n",
       " 'kfknally',\n",
       " 'uznally',\n",
       " 'efinallo',\n",
       " 'frinaluy',\n",
       " 'finazln',\n",
       " 'fbneally',\n",
       " 'finalslyl',\n",
       " 'fionzlly',\n",
       " 'hfcinally',\n",
       " 'fisalely',\n",
       " 'fosnally',\n",
       " 'fyinasly',\n",
       " 'fginahlly',\n",
       " 'finsll',\n",
       " 'finajylly',\n",
       " 'fitnylly',\n",
       " 'figallp',\n",
       " 'kfinallyv',\n",
       " 'fimalley',\n",
       " 'fiyawlly',\n",
       " 'finapkly',\n",
       " 'finglcy',\n",
       " 'fsnflly',\n",
       " 'finalltk',\n",
       " 'cfinalley',\n",
       " 'minalyl',\n",
       " 'fixanly',\n",
       " 'finawllw',\n",
       " 'finaflely',\n",
       " 'qfinaloy',\n",
       " 'finpallq',\n",
       " 'rfmnally',\n",
       " 'fjsinally',\n",
       " 'fisnakly',\n",
       " 'finalzlj',\n",
       " 'gfinamly',\n",
       " 'finatllby',\n",
       " 'finalwlg',\n",
       " 'fdninally',\n",
       " 'finolla',\n",
       " 'fiuaoly',\n",
       " 'fsnjally',\n",
       " 'fiunallk',\n",
       " 'finalloey',\n",
       " 'fienmally',\n",
       " 'fniallyx',\n",
       " 'fnnallc',\n",
       " 'fbivally',\n",
       " 'finlalr',\n",
       " 'fynalla',\n",
       " 'fnielly',\n",
       " 'tfinall',\n",
       " 'fidnalnly',\n",
       " 'umfinally',\n",
       " 'fihqlly',\n",
       " 'zfinalld',\n",
       " 'firnagly',\n",
       " 'hainally',\n",
       " 'wfiqally',\n",
       " 'frinaqlly',\n",
       " 'cfigally',\n",
       " 'pfinadly',\n",
       " 'finqalty',\n",
       " 'zfinllly',\n",
       " 'finplhy',\n",
       " 'finalplx',\n",
       " 'fihhnally',\n",
       " 'finajhly',\n",
       " 'fgirnally',\n",
       " 'fonalpy',\n",
       " 'fiaallyv',\n",
       " 'fiqnalln',\n",
       " 'fiddlly',\n",
       " 'finalpld',\n",
       " 'finaqllyz',\n",
       " 'fknayly',\n",
       " 'fitalluy',\n",
       " 'finaxwy',\n",
       " 'zinarlly',\n",
       " 'farnally',\n",
       " 'fhinallyh',\n",
       " 'finacllya',\n",
       " 'ljnally',\n",
       " 'nijally',\n",
       " 'fgsinally',\n",
       " 'rfinawly',\n",
       " 'fsinklly',\n",
       " 'tfinawlly',\n",
       " 'finxallxy',\n",
       " 'einually',\n",
       " 'finpallly',\n",
       " 'finnalzy',\n",
       " 'finhlaly',\n",
       " 'fcfally',\n",
       " 'qfinallgy',\n",
       " 'zfinallyn',\n",
       " 'fminallyq',\n",
       " 'finwalwly',\n",
       " 'fhially',\n",
       " 'fiqalluy',\n",
       " 'tinklly',\n",
       " 'fitnially',\n",
       " 'dfinaliy',\n",
       " 'gfinalcly',\n",
       " 'finafdly',\n",
       " 'oinlally',\n",
       " 'ffngally',\n",
       " 'fchinally',\n",
       " 'lindally',\n",
       " 'finelwy',\n",
       " 'finlhally',\n",
       " 'fwinafly',\n",
       " 'fihaloy',\n",
       " 'finslny',\n",
       " 'kinkally',\n",
       " 'fipjally',\n",
       " 'ufirally',\n",
       " 'finaqli',\n",
       " 'finaltlv',\n",
       " 'finlalpy',\n",
       " 'gianlly',\n",
       " 'fihnalla',\n",
       " 'finjallfy',\n",
       " 'ofinallf',\n",
       " 'finiaylly',\n",
       " 'finagpy',\n",
       " 'vionally',\n",
       " 'findallyr',\n",
       " 'ftnalrly',\n",
       " 'fiunallyk',\n",
       " 'fijnslly',\n",
       " 'finaslloy',\n",
       " 'fijallh',\n",
       " 'iinaolly',\n",
       " 'kinalry',\n",
       " 'finalkpy',\n",
       " 'omnally',\n",
       " 'finagllyr',\n",
       " 'ffinalsy',\n",
       " 'fpnaluly',\n",
       " 'fitnalely',\n",
       " 'fisndally',\n",
       " 'khfinally',\n",
       " 'ziinally',\n",
       " 'finvallo',\n",
       " 'finbfally',\n",
       " 'fwnkally',\n",
       " 'fqbally',\n",
       " 'fiqnalliy',\n",
       " 'fxnaclly',\n",
       " 'fiknallvy',\n",
       " 'fibnallyi',\n",
       " 'minglly',\n",
       " 'finaljey',\n",
       " 'fingaflly',\n",
       " 'finullvy',\n",
       " 'fiunaljly',\n",
       " 'xfenally',\n",
       " 'mfinallym',\n",
       " 'finbllu',\n",
       " 'rminally',\n",
       " 'finrllgy',\n",
       " 'fpnarlly',\n",
       " 'fibnallyv',\n",
       " 'finallzo',\n",
       " 'finahlo',\n",
       " 'fiahlly',\n",
       " 'ninglly',\n",
       " 'fidaqlly',\n",
       " 'fiznallly',\n",
       " 'fionallm',\n",
       " 'finaujy',\n",
       " 'finaxle',\n",
       " 'fgnallq',\n",
       " 'fginoally',\n",
       " 'finallmyc',\n",
       " 'finblbly',\n",
       " 'fiwallyy',\n",
       " 'frnalpy',\n",
       " 'winrally',\n",
       " 'xfionally',\n",
       " 'finamlln',\n",
       " 'flnalply',\n",
       " 'fgbinally',\n",
       " 'finaycy',\n",
       " 'tinallhy',\n",
       " 'fknallfy',\n",
       " 'fcnalby',\n",
       " 'finallux',\n",
       " 'fmnarlly',\n",
       " 'finuaxly',\n",
       " 'hiqnally',\n",
       " 'finalblfy',\n",
       " 'fepinally',\n",
       " 'ficnalle',\n",
       " 'hinalloy',\n",
       " 'finapely',\n",
       " 'fihaully',\n",
       " 'iinalfly',\n",
       " 'linbally',\n",
       " 'fnnakly',\n",
       " 'finaklr',\n",
       " 'finajiy',\n",
       " 'nfinallpy',\n",
       " 'finqallyn',\n",
       " 'finialvly',\n",
       " 'finjdally',\n",
       " 'fitnalnly',\n",
       " 'fznaally',\n",
       " 'mcfinally',\n",
       " 'fisnlally',\n",
       " 'fzinaslly',\n",
       " 'finallwy',\n",
       " 'finealjly',\n",
       " 'fiwalley',\n",
       " 'ftinallly',\n",
       " 'zfienally',\n",
       " 'finallwyk',\n",
       " 'fifallay',\n",
       " 'finually',\n",
       " 'finavlls',\n",
       " 'kfijally',\n",
       " 'uinahly',\n",
       " 'finablls',\n",
       " 'fynarly',\n",
       " 'fiuaally',\n",
       " 'jfinalley',\n",
       " 'finajllb',\n",
       " 'tfinelly',\n",
       " 'wfinallx',\n",
       " 'finaltlpy',\n",
       " 'finadxlly',\n",
       " 'finyqly',\n",
       " 'fivalgy',\n",
       " 'sfynally',\n",
       " 'winaully',\n",
       " 'finatlt',\n",
       " 'fdinalily',\n",
       " 'wfenally',\n",
       " 'fiknalgy',\n",
       " 'einjlly',\n",
       " 'sfinallby',\n",
       " 'fiwnaqly',\n",
       " 'azfinally',\n",
       " 'finsluy',\n",
       " 'fiwelly',\n",
       " 'finalmdly',\n",
       " 'fidaly',\n",
       " 'fginallyz',\n",
       " 'finatlb',\n",
       " 'fipnallye',\n",
       " 'kfinallq',\n",
       " 'fiqnahlly',\n",
       " 'finallyqa',\n",
       " 'finklkly',\n",
       " 'fzjnally',\n",
       " 'wfwinally',\n",
       " 'pfinallz',\n",
       " 'finallhf',\n",
       " 'linclly',\n",
       " 'fijnaklly',\n",
       " 'finallzj',\n",
       " 'minaoly',\n",
       " 'fnnaflly',\n",
       " 'fixalqly',\n",
       " 'finialljy',\n",
       " 'fmnamlly',\n",
       " 'foinallb',\n",
       " 'dfinatlly',\n",
       " 'fianllyf',\n",
       " 'finlalym',\n",
       " 'fiialfy',\n",
       " 'fitnazly',\n",
       " 'finaallb',\n",
       " 'finaelfy',\n",
       " 'finhually',\n",
       " 'finaqlljy',\n",
       " 'finmablly',\n",
       " 'mfinallya',\n",
       " 'ftiually',\n",
       " 'fjngally',\n",
       " 'finalkcy',\n",
       " 'finaldlye',\n",
       " 'finpmlly',\n",
       " 'fioalky',\n",
       " 'fwignally',\n",
       " 'ginablly',\n",
       " 'figdally',\n",
       " 'fsiaally',\n",
       " 'fionaplly',\n",
       " 'finallynb',\n",
       " 'fginaloly',\n",
       " 'finxllyz',\n",
       " 'findwally',\n",
       " 'fipnially',\n",
       " 'fixaluy',\n",
       " 'finvlls',\n",
       " 'finrallqy',\n",
       " 'fmnalwy',\n",
       " 'fyally',\n",
       " 'finalclyf',\n",
       " 'finalyyp',\n",
       " 'finallkr',\n",
       " 'jefinally',\n",
       " 'finpallgy',\n",
       " 'finarlv',\n",
       " 'finialsy',\n",
       " 'fidnallqy',\n",
       " 'finatvly',\n",
       " 'ginallk',\n",
       " 'eimnally',\n",
       " 'finalzlyw',\n",
       " 'finajmy',\n",
       " 'finaljlg',\n",
       " 'fknalyy',\n",
       " 'finallrdy',\n",
       " 'finoallt',\n",
       " 'fwinaplly',\n",
       " 'gfinalqy',\n",
       " 'qfirnally',\n",
       " 'finhllfy',\n",
       " 'uiaally',\n",
       " 'foiially',\n",
       " 'finalsd',\n",
       " 'filallp',\n",
       " 'wefinally',\n",
       " 'fixnahlly',\n",
       " 'fenallm',\n",
       " 'inallyq',\n",
       " 'finaldld',\n",
       " 'flnaally',\n",
       " 'fintlhy',\n",
       " 'fidngally',\n",
       " 'finqrlly',\n",
       " 'fibaljy',\n",
       " 'fiialyy',\n",
       " 'finaxlyw',\n",
       " 'fsiunally',\n",
       " 'fhnslly',\n",
       " 'fiqaslly',\n",
       " 'fhnaylly',\n",
       " 'wfinajlly',\n",
       " 'finafllmy',\n",
       " 'fiznaluly',\n",
       " 'fzinaely',\n",
       " 'fumally',\n",
       " 'finanily',\n",
       " 'qinalyl',\n",
       " 'fhinalhy',\n",
       " 'fidbally',\n",
       " 'finalltf',\n",
       " 'mfinaslly',\n",
       " 'finullqy',\n",
       " 'finalui',\n",
       " 'ginallyg',\n",
       " 'fmgnally',\n",
       " 'fionanlly',\n",
       " 'finkallyq',\n",
       " 'winallpy',\n",
       " 'fpnalgy',\n",
       " 'finazley',\n",
       " 'minmlly',\n",
       " 'finafllym',\n",
       " 'vinmally',\n",
       " 'findllw',\n",
       " 'fibqlly',\n",
       " 'bfinall',\n",
       " 'finballr',\n",
       " 'ficnvlly',\n",
       " 'finalcl',\n",
       " 'finuaaly',\n",
       " 'fnallo',\n",
       " 'fiwnglly',\n",
       " 'cidally',\n",
       " 'fvndally',\n",
       " 'fnnsally',\n",
       " 'dfinallxy',\n",
       " 'finqaxly',\n",
       " 'tfipally',\n",
       " 'ninallyc',\n",
       " 'bicnally',\n",
       " 'fimnallty',\n",
       " 'ofiwnally',\n",
       " 'fisaylly',\n",
       " 'fincllo',\n",
       " 'finaalyu',\n",
       " 'fifrnally',\n",
       " 'finllb',\n",
       " 'foinallay',\n",
       " 'finkallsy',\n",
       " 'yinallyu',\n",
       " 'fiwallye',\n",
       " 'rfinallyx',\n",
       " 'kfinaily',\n",
       " 'finallfyf',\n",
       " 'finoalnly',\n",
       " 'finarllfy',\n",
       " 'finavllz',\n",
       " 'fksnally',\n",
       " 'fiuallu',\n",
       " 'cinlly',\n",
       " 'finaldz',\n",
       " 'kinallyn',\n",
       " 'ydinally',\n",
       " 'pinauly',\n",
       " 'finbllyu',\n",
       " 'ftnwally',\n",
       " 'fiznamly',\n",
       " 'bfinalll',\n",
       " 'cinaslly',\n",
       " 'finalldn',\n",
       " 'finulcly',\n",
       " 'wfinallyf',\n",
       " 'fignatly',\n",
       " 'finalgye',\n",
       " 'bfinallhy',\n",
       " 'finoallym',\n",
       " 'fioaflly',\n",
       " 'finalliyl',\n",
       " 'efinallym',\n",
       " 'finhlply',\n",
       " 'finaiiy',\n",
       " 'fixnallyr',\n",
       " 'finrlldy',\n",
       " 'finaltgy',\n",
       " 'fpnallyy',\n",
       " 'finaallym',\n",
       " 'fynablly',\n",
       " 'sfinallyu',\n",
       " 'vinalqly',\n",
       " 'flpinally',\n",
       " 'fcnaely',\n",
       " 'fianallyp',\n",
       " 'fiknaely',\n",
       " 'figallby',\n",
       " 'finagiy',\n",
       " 'frnailly',\n",
       " 'finalclxy',\n",
       " 'fsnalld',\n",
       " 'yfinallv',\n",
       " 'fisaally',\n",
       " 'finaoely',\n",
       " 'fifally',\n",
       " 'linanlly',\n",
       " 'finakzlly',\n",
       " 'iinaloly',\n",
       " 'filnazly',\n",
       " 'ainarlly',\n",
       " 'finyallt',\n",
       " 'minaily',\n",
       " 'finacllsy',\n",
       " 'finrllh',\n",
       " 'msfinally',\n",
       " 'fjinallgy',\n",
       " 'hinalqy',\n",
       " 'fnxially',\n",
       " 'findllt',\n",
       " 'fghnally',\n",
       " 'finvajlly',\n",
       " 'fivnallyd',\n",
       " 'fdnfally',\n",
       " 'finalmyp',\n",
       " 'efinalgly',\n",
       " 'xfinalny',\n",
       " 'fiyallyq',\n",
       " 'finanaly',\n",
       " 'nfdnally',\n",
       " 'fixallwy',\n",
       " 'finzlxly',\n",
       " 'funvlly',\n",
       " 'eiqally',\n",
       " 'fdiaally',\n",
       " 'finaulry',\n",
       " 'finmxly',\n",
       " 'finaxvly',\n",
       " 'finjalla',\n",
       " 'finzlla',\n",
       " 'gfiynally',\n",
       " 'fsnalfy',\n",
       " 'finaxyy',\n",
       " 'finbllt',\n",
       " 'fixnalrly',\n",
       " 'pfinxlly',\n",
       " 'fitadlly',\n",
       " 'finaclld',\n",
       " 'finsllb',\n",
       " 'bintlly',\n",
       " 'einaolly',\n",
       " 'fidnalny',\n",
       " 'finmoally',\n",
       " 'pfuinally',\n",
       " 'foinaqly',\n",
       " 'finaoilly',\n",
       " 'uinallqy',\n",
       " 'finaolyv',\n",
       " 'foinalvly',\n",
       " 'finalzlyi',\n",
       " 'finaltlyb',\n",
       " 'fiualnly',\n",
       " 'finalmvy',\n",
       " 'finarllm',\n",
       " 'fintallyl',\n",
       " 'fiwfally',\n",
       " 'fifonally',\n",
       " 'wfnnally',\n",
       " 'finalhlcy',\n",
       " 'fisnaglly',\n",
       " 'finallhyj',\n",
       " 'finailoly',\n",
       " 'frnaoly',\n",
       " 'finoallfy',\n",
       " 'finalpn',\n",
       " 'finazllz',\n",
       " 'finaillyo',\n",
       " 'fimallny',\n",
       " 'finakoly',\n",
       " 'fienallqy',\n",
       " 'fqnalaly',\n",
       " 'wfinaily',\n",
       " 'fitaxly',\n",
       " 'finalqyp',\n",
       " 'fidnallq',\n",
       " 'fanhlly',\n",
       " 'ginqally',\n",
       " 'finasoly',\n",
       " 'fianallq',\n",
       " 'finaljlpy',\n",
       " 'ufinaklly',\n",
       " 'fjinjally',\n",
       " 'ninalwly',\n",
       " 'fknallhy',\n",
       " 'fainaally',\n",
       " 'finallbny',\n",
       " 'fhnaply',\n",
       " 'ginallyx',\n",
       " 'frinwally',\n",
       " 'fiynallyh',\n",
       " 'pinallk',\n",
       " 'finaliw',\n",
       " 'fsitally',\n",
       " 'fikallqy',\n",
       " 'fxinaley',\n",
       " 'finyalqy',\n",
       " 'nfirnally',\n",
       " 'finbllye',\n",
       " 'cinallby',\n",
       " 'feyinally',\n",
       " 'fwinalyy',\n",
       " 'finaliyy',\n",
       " 'fuinaily',\n",
       " 'xfinzally',\n",
       " 'finawlg',\n",
       " 'finalryu',\n",
       " 'fitalyly',\n",
       " 'fihnallqy',\n",
       " 'finlallym',\n",
       " 'finallaty',\n",
       " 'foiyally',\n",
       " 'fnijlly',\n",
       " 'jfially',\n",
       " 'xhfinally',\n",
       " 'oinallo',\n",
       " 'vinatly',\n",
       " 'jinnlly',\n",
       " 'fisnallcy',\n",
       " 'inaliy',\n",
       " 'fipnajly',\n",
       " 'ficnallqy',\n",
       " 'tinalln',\n",
       " 'finzllyx',\n",
       " 'finallyyc',\n",
       " 'finayy',\n",
       " 'fhiznally',\n",
       " 'kfinallky',\n",
       " 'fiqawlly',\n",
       " 'iinalloy',\n",
       " 'yfinaslly',\n",
       " 'fwinhally',\n",
       " 'jfinallyo',\n",
       " 'fnnaljly',\n",
       " 'zfinallyr',\n",
       " 'ninxally',\n",
       " 'finablyv',\n",
       " 'finulky',\n",
       " 'fianallyt',\n",
       " 'fianalxy',\n",
       " 'fiunalld',\n",
       " 'fixalky',\n",
       " 'finallyay',\n",
       " 'finalnla',\n",
       " 'finawllk',\n",
       " 'ufinallay',\n",
       " 'fxinalyly',\n",
       " 'finelcly',\n",
       " 'finalflcy',\n",
       " 'foianally',\n",
       " 'fhvally',\n",
       " 'fihgnally',\n",
       " 'finfallp',\n",
       " 'fkbinally',\n",
       " 'finablli',\n",
       " 'vfilally',\n",
       " 'cinallzy',\n",
       " 'afinawly',\n",
       " 'uinaliy',\n",
       " 'finasly',\n",
       " 'fignably',\n",
       " 'hfidnally',\n",
       " 'fiwnalmy',\n",
       " 'finpaqly',\n",
       " 'zinallzy',\n",
       " 'gfinaliy',\n",
       " 'fipnallyy',\n",
       " 'finallyke',\n",
       " 'finxldy',\n",
       " 'finallzys',\n",
       " 'fingalmy',\n",
       " 'fhinalgly',\n",
       " 'fjnaldy',\n",
       " 'fianlky',\n",
       " 'fqinallay',\n",
       " 'fynylly',\n",
       " 'kfinaaly',\n",
       " 'fonably',\n",
       " 'feinwally',\n",
       " 'fipnalnly',\n",
       " 'finooly',\n",
       " 'ffinalily',\n",
       " 'finaqllky',\n",
       " 'finkaldy',\n",
       " 'fnnallyv',\n",
       " 'fiqallyy',\n",
       " 'faianlly',\n",
       " 'finaaljly',\n",
       " 'fiadnally',\n",
       " 'fihallny',\n",
       " 'tfinallyv',\n",
       " 'finalkz',\n",
       " 'finavltly',\n",
       " 'finablly',\n",
       " 'yinallyf',\n",
       " 'fimalmly',\n",
       " 'fixahly',\n",
       " 'oinanlly',\n",
       " 'finalmoly',\n",
       " 'finqllyl',\n",
       " 'fidnallj',\n",
       " 'vfinaflly',\n",
       " 'finelwly',\n",
       " 'finawxly',\n",
       " 'finaldls',\n",
       " 'finaladly',\n",
       " 'tinalfy',\n",
       " 'funaclly',\n",
       " 'oinalry',\n",
       " 'cfidnally',\n",
       " 'fbigally',\n",
       " 'fisnayly',\n",
       " 'fitnalcly',\n",
       " 'ufinhlly',\n",
       " 'finvallyh',\n",
       " 'ftlinally',\n",
       " 'finavlyi',\n",
       " 'finallrjy',\n",
       " 'efinablly',\n",
       " 'ginaally',\n",
       " 'faimally',\n",
       " 'finpkally',\n",
       " 'finfwally',\n",
       " 'finwlyl',\n",
       " 'flinalbly',\n",
       " 'finpaslly',\n",
       " 'hinallya',\n",
       " 'fixaljly',\n",
       " 'finctally',\n",
       " 'finollpy',\n",
       " 'finaklv',\n",
       " 'jically',\n",
       " 'frinilly',\n",
       " 'fxkinally',\n",
       " 'cinolly',\n",
       " 'fpinasly',\n",
       " 'zinaplly',\n",
       " 'cinjally',\n",
       " 'wknally',\n",
       " 'finallxny',\n",
       " 'ficalliy',\n",
       " 'fitnallyq',\n",
       " 'finallryi',\n",
       " 'finzaley',\n",
       " 'fienaljly',\n",
       " 'finaxlll',\n",
       " 'finollk',\n",
       " 'rfinallc',\n",
       " 'winlaly',\n",
       " 'fgnaluly',\n",
       " 'cinallry',\n",
       " 'fdinamlly',\n",
       " 'rfinahly',\n",
       " 'fidafly',\n",
       " 'finalfyo',\n",
       " 'fcnalily',\n",
       " 'wfinaslly',\n",
       " 'finkllf',\n",
       " 'fwinall',\n",
       " 'finalbjly',\n",
       " 'finyallgy',\n",
       " 'fqnadlly',\n",
       " 'finrclly',\n",
       " 'finzyly',\n",
       " 'finsvlly',\n",
       " 'fiaanally',\n",
       " 'fianallly',\n",
       " 'fitnhally',\n",
       " 'fsinallty',\n",
       " 'finalrlgy',\n",
       " 'fiunalcly',\n",
       " 'fknxlly',\n",
       " 'finallgay',\n",
       " 'cinaply',\n",
       " 'finllyt',\n",
       " 'finazllyh',\n",
       " 'finmnally',\n",
       " 'finrbly',\n",
       " 'fitnrlly',\n",
       " 'fiprnally',\n",
       " 'inahlly',\n",
       " 'fenaliy',\n",
       " 'minaaly',\n",
       " 'iinallyl',\n",
       " 'finaplv',\n",
       " 'finfakly',\n",
       " 'fincluly',\n",
       " 'fminailly',\n",
       " 'finallyyy',\n",
       " 'finlllpy',\n",
       " 'fzivnally',\n",
       " 'finallpny',\n",
       " 'fyeinally',\n",
       " 'finclally',\n",
       " 'zinallq',\n",
       " 'binalmly',\n",
       " 'wfinallyl',\n",
       " 'fvlnally',\n",
       " 'fginallmy',\n",
       " 'finclny',\n",
       " 'figqnally',\n",
       " 'fknwally',\n",
       " 'fianallyv',\n",
       " 'finrlzy',\n",
       " 'fcnallpy',\n",
       " 'finaqlcy',\n",
       " 'fitallv',\n",
       " 'fincrly',\n",
       " 'finalgly',\n",
       " 'finvalgy',\n",
       " 'funalay',\n",
       " 'ofinalley',\n",
       " 'fdinalay',\n",
       " 'axnally',\n",
       " 'finadlloy',\n",
       " 'fqinallym',\n",
       " 'firvally',\n",
       " 'finalljb',\n",
       " 'fminalhly',\n",
       " 'fsnaljy',\n",
       " 'finalrn',\n",
       " 'finaijlly',\n",
       " 'finapllly',\n",
       " 'filaylly',\n",
       " 'fhinallr',\n",
       " 'fvnawlly',\n",
       " 'fiymnally',\n",
       " 'findlcly',\n",
       " 'finallohy',\n",
       " 'kofinally',\n",
       " 'finalzi',\n",
       " 'finavllqy',\n",
       " 'finallcyl',\n",
       " 'finwaley',\n",
       " 'fhnaldly',\n",
       " 'finzallr',\n",
       " 'iinwally',\n",
       " 'fipnilly',\n",
       " 'fsinzally',\n",
       " 'fintajly',\n",
       " 'fyingally',\n",
       " 'fingallhy',\n",
       " 'finallqhy',\n",
       " 'minallny',\n",
       " 'finalldqy',\n",
       " 'ftnallhy',\n",
       " 'pinglly',\n",
       " 'fionalqy',\n",
       " 'ftnvlly',\n",
       " 'fbnolly',\n",
       " 'fiqnslly',\n",
       " 'lfinhlly',\n",
       " 'findlyly',\n",
       " 'krinally',\n",
       " 'mfpinally',\n",
       " 'fimnallyk',\n",
       " 'finagllty',\n",
       " 'findllg',\n",
       " 'fingaxlly',\n",
       " 'iqally',\n",
       " 'ffnblly',\n",
       " 'fienblly',\n",
       " 'fipnmally',\n",
       " 'finailq',\n",
       " 'xinawlly',\n",
       " 'fuinallry',\n",
       " 'filaclly',\n",
       " 'fvinallyi',\n",
       " 'fiwallt',\n",
       " 'finzajlly',\n",
       " 'filaklly',\n",
       " 'fifallyw',\n",
       " 'fimaaly',\n",
       " 'fibajly',\n",
       " 'ffinarly',\n",
       " 'ainallo',\n",
       " 'fivnallqy',\n",
       " 'yfifnally',\n",
       " 'fcnvally',\n",
       " 'binilly',\n",
       " 'fiunaliy',\n",
       " 'oinawlly',\n",
       " 'finrpally',\n",
       " 'zinalgy',\n",
       " 'tfinclly',\n",
       " 'finalffly',\n",
       " 'fhinallay',\n",
       " 'fipbally',\n",
       " 'finaliyk',\n",
       " 'uenally',\n",
       " 'fuinallby',\n",
       " 'sfnally',\n",
       " 'finxallg',\n",
       " 'firnllly',\n",
       " 'flinavly',\n",
       " 'fifallc',\n",
       " 'fznalyly',\n",
       " 'finfalljy',\n",
       " 'fanalla',\n",
       " 'finallyup',\n",
       " 'finqxly',\n",
       " 'fbiaally',\n",
       " 'finrlyl',\n",
       " 'pfinallw',\n",
       " 'finanylly',\n",
       " 'fimallyo',\n",
       " 'fifnazlly',\n",
       " 'ficnalli',\n",
       " 'fiacnally',\n",
       " 'fivnxlly',\n",
       " 'finazyly',\n",
       " 'fpinalny',\n",
       " 'lfinallm',\n",
       " 'fnklly',\n",
       " 'fanalnly',\n",
       " 'fjnallyv',\n",
       " 'ainaally',\n",
       " 'fixnallyk',\n",
       " 'xinarlly',\n",
       " 'finanlc',\n",
       " 'fuinaally',\n",
       " 'fuinalcly',\n",
       " 'fiinqally',\n",
       " 'finalljyh',\n",
       " 'finnalle',\n",
       " 'klnally',\n",
       " 'ficaqly',\n",
       " 'wincally',\n",
       " 'bfainally',\n",
       " 'finphlly',\n",
       " 'fhnadly',\n",
       " 'fgvally',\n",
       " 'finpallfy',\n",
       " 'fiaaljy',\n",
       " 'fitnalln',\n",
       " 'vfinallvy',\n",
       " 'fhnallhy',\n",
       " 'finallob',\n",
       " 'fenahly',\n",
       " 'finiallsy',\n",
       " 'fvinadlly',\n",
       " 'flnalgly',\n",
       " 'finaoluy',\n",
       " 'finaluf',\n",
       " 'finallzyk',\n",
       " 'fiialmy',\n",
       " 'finglkly',\n",
       " 'ufinalqy',\n",
       " 'finvlay',\n",
       " 'zinauly',\n",
       " 'pwfinally',\n",
       " 'feipally',\n",
       " 'fqnalqly',\n",
       " 'fipnallp',\n",
       " 'fbnanly',\n",
       " 'ftinallyb',\n",
       " 'ofinaally',\n",
       " 'finmljly',\n",
       " 'afinaily',\n",
       " 'fieblly',\n",
       " 'binazly',\n",
       " 'fiinalky',\n",
       " 'ficnalhly',\n",
       " 'jfinalljy',\n",
       " 'finpalll',\n",
       " 'finaylloy',\n",
       " 'fiwnalily',\n",
       " 'milally',\n",
       " 'yionally',\n",
       " 'finslkly',\n",
       " 'fnnaxlly',\n",
       " 'jinhally',\n",
       " 'yfinaluly',\n",
       " 'fihallhy',\n",
       " 'gfinalhy',\n",
       " 'finsallyb',\n",
       " 'finaqlv',\n",
       " 'finlatly',\n",
       " 'finsqally',\n",
       " 'kindlly',\n",
       " 'uinalll',\n",
       " 'jfinsally',\n",
       " 'fimasly',\n",
       " 'feinhlly',\n",
       " 'finnalky',\n",
       " 'finaxnlly',\n",
       " 'fjinfally',\n",
       " 'ginaolly',\n",
       " 'fdinallc',\n",
       " 'frvinally',\n",
       " 'fxnalay',\n",
       " 'fiuhlly',\n",
       " 'fijnalgy',\n",
       " 'fwinalby',\n",
       " 'finaqqy',\n",
       " 'vmfinally',\n",
       " 'finalolw',\n",
       " 'ieally',\n",
       " 'fjnallyk',\n",
       " 'finaollya',\n",
       " 'flfnally',\n",
       " 'finulsy',\n",
       " 'finaqllq',\n",
       " 'fitnaily',\n",
       " 'finanllmy',\n",
       " 'finalvmy',\n",
       " 'fivallcy',\n",
       " 'fisdnally',\n",
       " 'fpinallzy',\n",
       " 'finraslly',\n",
       " ...}"
      ]
     },
     "execution_count": 68,
     "metadata": {},
     "output_type": "execute_result"
    }
   ],
   "source": [
    "edits2(word)"
   ]
  },
  {
   "cell_type": "code",
   "execution_count": 69,
   "metadata": {},
   "outputs": [
    {
     "data": {
      "text/plain": [
       "{'fatally', 'final', 'finally', 'finely', 'vitally'}"
      ]
     },
     "execution_count": 69,
     "metadata": {},
     "output_type": "execute_result"
    }
   ],
   "source": [
    "known(edits2(word))"
   ]
  },
  {
   "cell_type": "markdown",
   "metadata": {},
   "source": [
    "上面的输出显示了一组能够替换错误输入词的候选词，通过赋予编辑距离更小的单词更高的优先级，可以从前面的列表中选出候选词"
   ]
  },
  {
   "cell_type": "code",
   "execution_count": 71,
   "metadata": {},
   "outputs": [
    {
     "data": {
      "text/plain": [
       "{'finally'}"
      ]
     },
     "execution_count": 71,
     "metadata": {},
     "output_type": "execute_result"
    }
   ],
   "source": [
    "candidates = (known(edits0(word))or\n",
    "              known(edits1(word))or\n",
    "              known(edits2(word))or\n",
    "              [word])\n",
    "candidates"
   ]
  },
  {
   "cell_type": "markdown",
   "metadata": {},
   "source": [
    "假如在前面的候选词中两个单词的编辑距离相同，则可以通过使用max(candidates,key = WORD_COUNTS.get)函数从词汇字典WORD_COUNTS中选取出现频率最高的词来作为有效词。现在，我们使用上述逻辑定义拼写校正函数："
   ]
  },
  {
   "cell_type": "code",
   "execution_count": 73,
   "metadata": {},
   "outputs": [
    {
     "data": {
      "text/plain": [
       "'finally'"
      ]
     },
     "execution_count": 73,
     "metadata": {},
     "output_type": "execute_result"
    }
   ],
   "source": [
    "def correct(word):\n",
    "    candidates = (known(edits0(word))or\n",
    "              known(edits1(word))or\n",
    "              known(edits2(word))or\n",
    "              [word])\n",
    "    return max(candidates,key = WORD_COUNTS.get)\n",
    "correct('fianlly')"
   ]
  },
  {
   "cell_type": "code",
   "execution_count": 74,
   "metadata": {},
   "outputs": [
    {
     "data": {
      "text/plain": [
       "'FIANLLY'"
      ]
     },
     "execution_count": 74,
     "metadata": {},
     "output_type": "execute_result"
    }
   ],
   "source": [
    "correct('FIANLLY')"
   ]
  },
  {
   "cell_type": "markdown",
   "metadata": {},
   "source": [
    "可以看出这个函数对大小写比较敏感，它无法校正非小写的单词，因此我们编写下列函数，以使其能够同时校正大写和小写的单词，该函数的逻辑是存储单词的原始大小写格式，然后将所有字母转换成小写字母，更正拼写错误，最后使用case——of函数将其重新转换回初始的大小写格式："
   ]
  },
  {
   "cell_type": "code",
   "execution_count": 75,
   "metadata": {
    "collapsed": true
   },
   "outputs": [],
   "source": [
    "def correct_match(match):\n",
    "    word = match.group()\n",
    "    def case_of(text):\n",
    "        return (str.upper if text.isupper() else\n",
    "                str.lower if text.islower() else\n",
    "                str.title if text.istitile() else\n",
    "                str)\n",
    "    return case_of(word)(correct(word.lower()))\n",
    "def correct_text_generic(text):\n",
    "    return re.sub('[a-zA-Z]+',correct_match,text)"
   ]
  },
  {
   "cell_type": "markdown",
   "metadata": {},
   "source": [
    "现在上述函数既可以用来校正大写也可以用来校正小写"
   ]
  },
  {
   "cell_type": "code",
   "execution_count": 76,
   "metadata": {},
   "outputs": [
    {
     "data": {
      "text/plain": [
       "'finally'"
      ]
     },
     "execution_count": 76,
     "metadata": {},
     "output_type": "execute_result"
    }
   ],
   "source": [
    "correct_text_generic('fianlly')"
   ]
  },
  {
   "cell_type": "code",
   "execution_count": 77,
   "metadata": {},
   "outputs": [
    {
     "data": {
      "text/plain": [
       "'FINALLY'"
      ]
     },
     "execution_count": 77,
     "metadata": {},
     "output_type": "execute_result"
    }
   ],
   "source": [
    "correct_text_generic('FIANLLY')"
   ]
  },
  {
   "cell_type": "markdown",
   "metadata": {},
   "source": [
    "当然这种方法并不总是准确的，如果单词没有出现在词汇字典中，就有可能无法被校正。使用更多的词汇表数据以涵盖更多的词语可以解决这个问题，在pattern库中也有类似的，开箱即用的算法"
   ]
  },
  {
   "cell_type": "code",
   "execution_count": 80,
   "metadata": {},
   "outputs": [
    {
     "name": "stdout",
     "output_type": "stream",
     "text": [
      "[('finally', 1.0)]\n"
     ]
    }
   ],
   "source": [
    "from pattern.en import suggest \n",
    "print (suggest('fianlly'))"
   ]
  },
  {
   "cell_type": "code",
   "execution_count": 82,
   "metadata": {},
   "outputs": [
    {
     "name": "stdout",
     "output_type": "stream",
     "text": [
      "[('flat', 0.85), ('float', 0.15)]\n"
     ]
    }
   ],
   "source": [
    "print(suggest('flaot'))"
   ]
  },
  {
   "cell_type": "markdown",
   "metadata": {},
   "source": [
    "### 词干提取"
   ]
  },
  {
   "cell_type": "markdown",
   "metadata": {},
   "source": [
    "词素是任何自然语言中最小的独立单元，词素由词干和词缀组成。词缀是指前缀后缀等词语单元，他们附加到词干上以改变其含义或创建一个新单词，词干也常称为单词的基本形式，我们可以通过在词干上以添加词缀来创建新词，这个过程成为词形变化，相反的过程是从单词的变形形式中获得单词的基本形式，这成为“词干提取”\n",
    "\n",
    "以“jump”一词为例，你可以对其添加词缀形成新的单词，如“jumps”“jumped”“jumping”。在这些情况下，基本单词“jump”是词干，如果对于这三种变形形式中的任一种进行词干提取，都将得到基本形式。\n",
    "\n",
    "对于词干提取器，nltk包有几种实现算法，这些词干提取器包含在stem模块中。还有一个Porter2词干提取算法，这是一个改进算法，以下代码展示了波特词干提取器："
   ]
  },
  {
   "cell_type": "code",
   "execution_count": 92,
   "metadata": {},
   "outputs": [
    {
     "name": "stdout",
     "output_type": "stream",
     "text": [
      "jump\n",
      "selfless\n"
     ]
    }
   ],
   "source": [
    "from nltk.stem import PorterStemmer\n",
    "ps = PorterStemmer()\n",
    "#print (ps.stem('jumping'),ps.stem('jumps'),ps.stem('jumped'))\n",
    "print(ps.stem('jumping'))\n",
    "print(ps.stem('selfless'))"
   ]
  },
  {
   "cell_type": "markdown",
   "metadata": {},
   "source": [
    "兰卡斯特词干提取器基于兰卡斯特词干提取算法，具有超过120条规则来具体说明如何删减或替换词缀以获得词干"
   ]
  },
  {
   "cell_type": "code",
   "execution_count": 91,
   "metadata": {},
   "outputs": [
    {
     "name": "stdout",
     "output_type": "stream",
     "text": [
      "jump\n",
      "selfless\n"
     ]
    }
   ],
   "source": [
    "from nltk.stem import LancasterStemmer\n",
    "ls = LancasterStemmer()\n",
    "print(ls.stem('jumping'))\n",
    "print(ls.stem('selfless'))"
   ]
  },
  {
   "cell_type": "code",
   "execution_count": null,
   "metadata": {
    "collapsed": true
   },
   "outputs": [],
   "source": []
  },
  {
   "cell_type": "markdown",
   "metadata": {},
   "source": [
    "可以看出这个词干提取器的行为与波特词干提取器的行为是不同的"
   ]
  },
  {
   "cell_type": "markdown",
   "metadata": {},
   "source": [
    "### 词形还原"
   ]
  },
  {
   "cell_type": "markdown",
   "metadata": {},
   "source": [
    "词形还原的过程与词干提取非常相似，去除词缀以获得单词的基本形式，但在这种情况下，这种基本形式成为词根，而不是词干，他们的不同之处在于，词干不一定是标准的、正确的单词。也就是说。他可能不存在于词典中。词根也称为词元，始终存在于词典中。\n",
    "\n",
    "词形还原的过程比词干提取慢得多。nltk有一个强大的词形还原模块，它使用WordNet、单词的句法和语义（如词性和语境）来获得词根或词元。"
   ]
  },
  {
   "cell_type": "code",
   "execution_count": 93,
   "metadata": {},
   "outputs": [
    {
     "name": "stdout",
     "output_type": "stream",
     "text": [
      "car\n",
      "men\n"
     ]
    }
   ],
   "source": [
    "from nltk.stem import WordNetLemmatizer\n",
    "wnl = WordNetLemmatizer()\n",
    "\n",
    "print(wnl.lemmatize('cars','n'))\n",
    "print(wnl.lemmatize('men','n'))"
   ]
  },
  {
   "cell_type": "code",
   "execution_count": 94,
   "metadata": {},
   "outputs": [
    {
     "name": "stdout",
     "output_type": "stream",
     "text": [
      "run\n"
     ]
    }
   ],
   "source": [
    "print(wnl.lemmatize('running','v'))"
   ]
  },
  {
   "cell_type": "code",
   "execution_count": 95,
   "metadata": {},
   "outputs": [
    {
     "name": "stdout",
     "output_type": "stream",
     "text": [
      "eat\n"
     ]
    }
   ],
   "source": [
    "print(wnl.lemmatize('ate','v'))"
   ]
  },
  {
   "cell_type": "markdown",
   "metadata": {
    "collapsed": true
   },
   "source": [
    "至此就结束了处理和规范化文本技术的讨论"
   ]
  },
  {
   "cell_type": "code",
   "execution_count": null,
   "metadata": {
    "collapsed": true
   },
   "outputs": [],
   "source": []
  },
  {
   "cell_type": "code",
   "execution_count": null,
   "metadata": {
    "collapsed": true
   },
   "outputs": [],
   "source": []
  },
  {
   "cell_type": "code",
   "execution_count": null,
   "metadata": {
    "collapsed": true
   },
   "outputs": [],
   "source": []
  },
  {
   "cell_type": "code",
   "execution_count": null,
   "metadata": {
    "collapsed": true
   },
   "outputs": [],
   "source": []
  },
  {
   "cell_type": "code",
   "execution_count": null,
   "metadata": {
    "collapsed": true
   },
   "outputs": [],
   "source": []
  },
  {
   "cell_type": "code",
   "execution_count": null,
   "metadata": {
    "collapsed": true
   },
   "outputs": [],
   "source": []
  },
  {
   "cell_type": "code",
   "execution_count": null,
   "metadata": {
    "collapsed": true
   },
   "outputs": [],
   "source": []
  },
  {
   "cell_type": "code",
   "execution_count": null,
   "metadata": {
    "collapsed": true
   },
   "outputs": [],
   "source": []
  },
  {
   "cell_type": "code",
   "execution_count": null,
   "metadata": {
    "collapsed": true
   },
   "outputs": [],
   "source": []
  },
  {
   "cell_type": "code",
   "execution_count": null,
   "metadata": {
    "collapsed": true
   },
   "outputs": [],
   "source": []
  },
  {
   "cell_type": "code",
   "execution_count": null,
   "metadata": {
    "collapsed": true
   },
   "outputs": [],
   "source": []
  },
  {
   "cell_type": "code",
   "execution_count": null,
   "metadata": {
    "collapsed": true
   },
   "outputs": [],
   "source": []
  },
  {
   "cell_type": "code",
   "execution_count": null,
   "metadata": {
    "collapsed": true
   },
   "outputs": [],
   "source": []
  },
  {
   "cell_type": "code",
   "execution_count": null,
   "metadata": {
    "collapsed": true
   },
   "outputs": [],
   "source": []
  },
  {
   "cell_type": "code",
   "execution_count": null,
   "metadata": {
    "collapsed": true
   },
   "outputs": [],
   "source": []
  },
  {
   "cell_type": "code",
   "execution_count": null,
   "metadata": {
    "collapsed": true
   },
   "outputs": [],
   "source": []
  },
  {
   "cell_type": "code",
   "execution_count": null,
   "metadata": {
    "collapsed": true
   },
   "outputs": [],
   "source": []
  },
  {
   "cell_type": "code",
   "execution_count": null,
   "metadata": {
    "collapsed": true
   },
   "outputs": [],
   "source": []
  },
  {
   "cell_type": "code",
   "execution_count": null,
   "metadata": {
    "collapsed": true
   },
   "outputs": [],
   "source": []
  },
  {
   "cell_type": "code",
   "execution_count": null,
   "metadata": {
    "collapsed": true
   },
   "outputs": [],
   "source": []
  },
  {
   "cell_type": "code",
   "execution_count": null,
   "metadata": {
    "collapsed": true
   },
   "outputs": [],
   "source": []
  },
  {
   "cell_type": "code",
   "execution_count": null,
   "metadata": {
    "collapsed": true
   },
   "outputs": [],
   "source": []
  },
  {
   "cell_type": "code",
   "execution_count": null,
   "metadata": {
    "collapsed": true
   },
   "outputs": [],
   "source": []
  },
  {
   "cell_type": "code",
   "execution_count": null,
   "metadata": {
    "collapsed": true
   },
   "outputs": [],
   "source": []
  },
  {
   "cell_type": "code",
   "execution_count": null,
   "metadata": {
    "collapsed": true
   },
   "outputs": [],
   "source": []
  },
  {
   "cell_type": "code",
   "execution_count": null,
   "metadata": {
    "collapsed": true
   },
   "outputs": [],
   "source": []
  },
  {
   "cell_type": "code",
   "execution_count": null,
   "metadata": {
    "collapsed": true
   },
   "outputs": [],
   "source": []
  },
  {
   "cell_type": "code",
   "execution_count": null,
   "metadata": {
    "collapsed": true
   },
   "outputs": [],
   "source": []
  },
  {
   "cell_type": "code",
   "execution_count": null,
   "metadata": {
    "collapsed": true
   },
   "outputs": [],
   "source": []
  },
  {
   "cell_type": "code",
   "execution_count": null,
   "metadata": {
    "collapsed": true
   },
   "outputs": [],
   "source": []
  },
  {
   "cell_type": "code",
   "execution_count": null,
   "metadata": {
    "collapsed": true
   },
   "outputs": [],
   "source": []
  },
  {
   "cell_type": "code",
   "execution_count": null,
   "metadata": {
    "collapsed": true
   },
   "outputs": [],
   "source": []
  },
  {
   "cell_type": "code",
   "execution_count": null,
   "metadata": {
    "collapsed": true
   },
   "outputs": [],
   "source": []
  },
  {
   "cell_type": "code",
   "execution_count": null,
   "metadata": {
    "collapsed": true
   },
   "outputs": [],
   "source": []
  },
  {
   "cell_type": "code",
   "execution_count": null,
   "metadata": {
    "collapsed": true
   },
   "outputs": [],
   "source": []
  },
  {
   "cell_type": "code",
   "execution_count": null,
   "metadata": {
    "collapsed": true
   },
   "outputs": [],
   "source": []
  },
  {
   "cell_type": "code",
   "execution_count": null,
   "metadata": {
    "collapsed": true
   },
   "outputs": [],
   "source": []
  },
  {
   "cell_type": "code",
   "execution_count": null,
   "metadata": {
    "collapsed": true
   },
   "outputs": [],
   "source": []
  },
  {
   "cell_type": "code",
   "execution_count": null,
   "metadata": {
    "collapsed": true
   },
   "outputs": [],
   "source": []
  },
  {
   "cell_type": "code",
   "execution_count": null,
   "metadata": {
    "collapsed": true
   },
   "outputs": [],
   "source": []
  },
  {
   "cell_type": "code",
   "execution_count": null,
   "metadata": {
    "collapsed": true
   },
   "outputs": [],
   "source": []
  },
  {
   "cell_type": "code",
   "execution_count": null,
   "metadata": {
    "collapsed": true
   },
   "outputs": [],
   "source": []
  },
  {
   "cell_type": "code",
   "execution_count": null,
   "metadata": {
    "collapsed": true
   },
   "outputs": [],
   "source": []
  },
  {
   "cell_type": "code",
   "execution_count": null,
   "metadata": {
    "collapsed": true
   },
   "outputs": [],
   "source": []
  },
  {
   "cell_type": "code",
   "execution_count": null,
   "metadata": {
    "collapsed": true
   },
   "outputs": [],
   "source": []
  },
  {
   "cell_type": "code",
   "execution_count": null,
   "metadata": {
    "collapsed": true
   },
   "outputs": [],
   "source": []
  },
  {
   "cell_type": "code",
   "execution_count": null,
   "metadata": {
    "collapsed": true
   },
   "outputs": [],
   "source": []
  },
  {
   "cell_type": "code",
   "execution_count": null,
   "metadata": {
    "collapsed": true
   },
   "outputs": [],
   "source": []
  },
  {
   "cell_type": "code",
   "execution_count": null,
   "metadata": {
    "collapsed": true
   },
   "outputs": [],
   "source": []
  },
  {
   "cell_type": "code",
   "execution_count": null,
   "metadata": {
    "collapsed": true
   },
   "outputs": [],
   "source": []
  },
  {
   "cell_type": "code",
   "execution_count": null,
   "metadata": {
    "collapsed": true
   },
   "outputs": [],
   "source": []
  },
  {
   "cell_type": "code",
   "execution_count": null,
   "metadata": {
    "collapsed": true
   },
   "outputs": [],
   "source": []
  },
  {
   "cell_type": "code",
   "execution_count": null,
   "metadata": {
    "collapsed": true
   },
   "outputs": [],
   "source": []
  },
  {
   "cell_type": "code",
   "execution_count": null,
   "metadata": {
    "collapsed": true
   },
   "outputs": [],
   "source": []
  },
  {
   "cell_type": "code",
   "execution_count": null,
   "metadata": {
    "collapsed": true
   },
   "outputs": [],
   "source": []
  }
 ],
 "metadata": {
  "kernelspec": {
   "display_name": "Python 3",
   "language": "python",
   "name": "python3"
  },
  "language_info": {
   "codemirror_mode": {
    "name": "ipython",
    "version": 3
   },
   "file_extension": ".py",
   "mimetype": "text/x-python",
   "name": "python",
   "nbconvert_exporter": "python",
   "pygments_lexer": "ipython3",
   "version": "3.6.3"
  }
 },
 "nbformat": 4,
 "nbformat_minor": 2
}
